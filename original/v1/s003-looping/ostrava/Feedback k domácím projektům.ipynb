{
 "cells": [
  {
   "cell_type": "markdown",
   "metadata": {},
   "source": [
    "# Feedback k domácím projektům"
   ]
  },
  {
   "cell_type": "markdown",
   "metadata": {},
   "source": [
    "## Nejmenší číslo"
   ]
  },
  {
   "cell_type": "markdown",
   "metadata": {},
   "source": [
    "### Upovídané řešení z domácích projektů"
   ]
  },
  {
   "cell_type": "code",
   "execution_count": null,
   "metadata": {},
   "outputs": [],
   "source": [
    "prve = input('Zadej cislo: ')\n",
    "druhe = input('Zadej cislo: ')\n",
    "tretie = input('Zadej cislo: ')\n",
    "stvrte = input('Zadej cislo: ')\n",
    "piate = input('Zadej cislo: ')\n",
    "\n",
    "if prve<druhe and prve<tretie and prve<stvrte and prve<piate:                    \n",
    "    print(prve)                                                                  \n",
    "if druhe<prve and druhe<tretie and druhe<stvrte and druhe<piate:                 \n",
    "    print(druhe)                                                                 \n",
    "if tretie<prve and tretie<druhe and tretie<stvrte and tretie<piate:              \n",
    "    print(tretie)                                                                \n",
    "if stvrte<prve and stvrte<druhe and stvrte<tretie and stvrte<piate:              \n",
    "    print(stvrte)                                                                \n",
    "if piate<prve and piate<druhe and piate<tretie and piate<stvrte:                 \n",
    "    print(piate)"
   ]
  },
  {
   "cell_type": "markdown",
   "metadata": {},
   "source": [
    "### Lepší, ale pořád ne optimální"
   ]
  },
  {
   "cell_type": "code",
   "execution_count": null,
   "metadata": {},
   "outputs": [],
   "source": [
    "a = float(input('Prvni cislo: '))\n",
    "b = float(input('Druhe cislo: '))\n",
    "c = float(input('Treti cislo: '))\n",
    "d = float(input('Ctrvte cislo: '))\n",
    "e = float(input('Pate cislo: '))\n",
    "\n",
    "\n",
    "m = a\n",
    "\n",
    "for cislo in a, b, c, d, e:\n",
    "  if cislo < m:\n",
    "      m=cislo\n",
    "print(m)"
   ]
  },
  {
   "cell_type": "markdown",
   "metadata": {},
   "source": [
    "### Kratší a méně náročné řešení"
   ]
  },
  {
   "cell_type": "code",
   "execution_count": null,
   "metadata": {},
   "outputs": [],
   "source": [
    "minimum = 0\n",
    "for x in range(5):\n",
    "    cislo = input('Zadej cislo: ')\n",
    "    \n",
    "    if minimum == 0 or cislo < minimum:\n",
    "        minimum = cislo\n",
    "\n",
    "print('Nejmensi zadane cislo je', minimum)"
   ]
  },
  {
   "cell_type": "markdown",
   "metadata": {},
   "source": [
    "## N-úhelníky v řadě"
   ]
  },
  {
   "cell_type": "markdown",
   "metadata": {},
   "source": [
    "### Upovídané řešení z domácích projektů"
   ]
  },
  {
   "cell_type": "code",
   "execution_count": null,
   "metadata": {
    "collapsed": true
   },
   "outputs": [],
   "source": [
    "from turtle import forward, shape, left, right, exitonclick, penup, pendown, back\n",
    "\n",
    "# pětiúhelník:\n",
    "vnitrniuhel = 180*(1-(2/5))\n",
    "vnejsiuhel= 180-vnitrniuhel\n",
    "for x in range (5):\n",
    "    forward(200/5)\n",
    "    left(vnejsiuhel)\n",
    "penup()\n",
    "forward(100)\n",
    "pendown()\n",
    "\n",
    "# šestiúhelník:\n",
    "vnitrniuhel = 180*(1-(2/6))\n",
    "vnejsiuhel= 180-vnitrniuhel\n",
    "for x in range (6):\n",
    "    forward(200/6)\n",
    "    left(vnejsiuhel)\n",
    "penup()\n",
    "forward(100)\n",
    "pendown()\n",
    "\n",
    "# sedmiúhelník:\n",
    "vnitrniuhel = 180*(1-(2/7))\n",
    "vnejsiuhel= 180-vnitrniuhel\n",
    "for x in range (7):\n",
    "    forward(200/7)\n",
    "    left(vnejsiuhel)\n",
    "penup()\n",
    "forward(100)\n",
    "pendown()\n",
    "\n",
    "# osmiúhelník:\n",
    "vnitrniuhel = 180*(1-(2/8))\n",
    "vnejsiuhel= 180-vnitrniuhel\n",
    "for x in range (8):\n",
    "    forward(200/8)\n",
    "    left(vnejsiuhel)\n",
    "exitonclick()"
   ]
  },
  {
   "cell_type": "markdown",
   "metadata": {},
   "source": [
    "### Kratší řešení s využitím cyklu v dalším cyklu"
   ]
  },
  {
   "cell_type": "code",
   "execution_count": null,
   "metadata": {},
   "outputs": [],
   "source": [
    "from turtle import forward, shape, left, right, exitonclick, penup, pendown, back\n",
    "\n",
    "for n in range(5,9):\n",
    "    vnitrniuhel = 180*(1-(2/n))\n",
    "    vnejsiuhel= 180-vnitrniuhel\n",
    "    for x in range (n):\n",
    "        forward(200/n)\n",
    "        left(vnejsiuhel)\n",
    "    penup()\n",
    "    forward(100)\n",
    "    pendown()\n",
    "\n",
    "exitonclick()"
   ]
  },
  {
   "cell_type": "markdown",
   "metadata": {},
   "source": [
    "## Co je tady \"špatně\"?"
   ]
  },
  {
   "cell_type": "code",
   "execution_count": null,
   "metadata": {},
   "outputs": [],
   "source": [
    "from turtle import forward\n",
    "from turtle import shape\n",
    "from turtle import left,right,exitonclick\n",
    "from turtle import penup,pendown, down\n",
    "from math import sqrt\n",
    "\n",
    "# verze,kdy počet úhlů určuji já, nadefinuju přímo n=5 nebo 6 nebo 7 atd...\n",
    "n=int(input(\"Zadejte počet stran n-úhelníku\"))\n",
    "\n",
    "for i in range(n):\n",
    "    forward(200/n)\n",
    "    left(180-(180*(1-(2/n))))\n",
    "\n",
    "exitonclick()"
   ]
  },
  {
   "cell_type": "markdown",
   "metadata": {},
   "source": [
    "## Obecné připomínky a rady"
   ]
  },
  {
   "cell_type": "markdown",
   "metadata": {},
   "source": [
    "* Importy provádíme vždy na prvních řádcích programu a v rámci programu pouze jednou\n",
    "* Neimportujeme nic co pak v programu nepoužijeme\n",
    "* Odevzdáváme co možná nejvíce domácích projektů (vzpomeňte na svou odpověď v registračním formuláři)\n",
    "* Google je náš kamarád! Nemusíte na řešení přijít samy, ale musíte ho pochopit."
   ]
  }
 ],
 "metadata": {
  "kernelspec": {
   "display_name": "Python 3",
   "language": "python",
   "name": "python3"
  },
  "language_info": {
   "codemirror_mode": {
    "name": "ipython",
    "version": 3
   },
   "file_extension": ".py",
   "mimetype": "text/x-python",
   "name": "python",
   "nbconvert_exporter": "python",
   "pygments_lexer": "ipython3",
   "version": "3.6.2"
  }
 },
 "nbformat": 4,
 "nbformat_minor": 2
}
