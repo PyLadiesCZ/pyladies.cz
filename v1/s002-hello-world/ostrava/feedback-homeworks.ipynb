{
 "cells": [
  {
   "cell_type": "markdown",
   "metadata": {
    "slideshow": {
     "slide_type": "slide"
    }
   },
   "source": [
    "# Feedback k domácím projektům"
   ]
  },
  {
   "cell_type": "markdown",
   "metadata": {
    "slideshow": {
     "slide_type": "slide"
    }
   },
   "source": [
    "## Je možné tohle zjednodušit?"
   ]
  },
  {
   "cell_type": "code",
   "execution_count": null,
   "metadata": {
    "slideshow": {
     "slide_type": "-"
    }
   },
   "outputs": [],
   "source": [
    "tah_cloveka = 'kámen'\n",
    "tah_pocitace = 'papír'\n",
    "\n",
    "if tah_cloveka == 'kámen' and tah_pocitace == 'kámen'or tah_cloveka == 'nůžky' and tah_pocitace == 'nůžky' or tah_cloveka == 'papír' and tah_pocitace == 'papír':\n",
    "    print('Plichta.')\n",
    "elif tah_cloveka == 'kámen' and tah_pocitace == 'nůžky' or tah_cloveka == 'nůžky'and tah_pocitace == 'papír' or tah_cloveka == 'papír' and tah_pocitace == 'kámen':\n",
    "    print('Vyhrála jsi!')\n",
    "elif tah_cloveka == 'kámen' and tah_pocitace == 'papír'or tah_cloveka == 'papír' and tah_pocitace == 'nůžky' or tah_cloveka == 'nůžky' and tah_pocitace == 'kámen':\n",
    "    print('Počítač vyhrál.')"
   ]
  },
  {
   "cell_type": "markdown",
   "metadata": {
    "slideshow": {
     "slide_type": "slide"
    }
   },
   "source": [
    "### Ano, je"
   ]
  },
  {
   "cell_type": "code",
   "execution_count": null,
   "metadata": {
    "slideshow": {
     "slide_type": "-"
    }
   },
   "outputs": [],
   "source": [
    "tah_cloveka = 'kámen'\n",
    "tah_pocitace = 'papír'\n",
    "\n",
    "if tah_cloveka ==  tah_pocitace:\n",
    "    print('Plichta.')\n",
    "elif tah_cloveka == 'kámen' and tah_pocitace == 'nůžky' or tah_cloveka == 'nůžky'and tah_pocitace == 'papír' or tah_cloveka == 'papír' and tah_pocitace == 'kámen':\n",
    "    print('Vyhrála jsi!')\n",
    "else:\n",
    "    print('Počítač vyhrál.')"
   ]
  },
  {
   "cell_type": "markdown",
   "metadata": {
    "slideshow": {
     "slide_type": "slide"
    }
   },
   "source": [
    "## Najdi chyby 1"
   ]
  },
  {
   "cell_type": "markdown",
   "metadata": {},
   "source": [
    "Tento kousek kódu, který se stará o výběr tahu počítače na základě náhodně vygenerovaného čísla, může vypada na první pohled správně, ale ve skutečnosti jej stačí párkrát spustit a chybička se projeví."
   ]
  },
  {
   "cell_type": "code",
   "execution_count": null,
   "metadata": {
    "slideshow": {
     "slide_type": "-"
    }
   },
   "outputs": [],
   "source": [
    "from random import randrange\n",
    "cislo = randrange(2)\n",
    "\n",
    "if cislo == 0:\n",
    "    tah_pocitace = \"kámen\"\n",
    "    print(\"Počítač vybral kámen.\")\n",
    "if cislo == 1:\n",
    "    print(\"Počítač vybral nůžky.\")\n",
    "    tah_pocitace = \"nůžky\"\n",
    "else:\n",
    "    tah_pocitace = \"papír\"\n",
    "    print(\"Počítač vybral papír.\")"
   ]
  },
  {
   "cell_type": "markdown",
   "metadata": {
    "slideshow": {
     "slide_type": "slide"
    }
   },
   "source": [
    "### Správné řešení"
   ]
  },
  {
   "cell_type": "markdown",
   "metadata": {},
   "source": [
    "Chybička byla v záměně `elif` za další `if` což způsobilo rozdělení jedné podmínky se třemi větvemi na dvě samostatné podmínky, z nichž ta první měla jen jednu větev (jen jeden if) a ta druhá dvě (jeden if a jeden else).\n",
    "\n",
    "Další chyba pak byla v generování náhodných čísel, protože `randrange(2)` vrátí vždy jen 0 nebo 1."
   ]
  },
  {
   "cell_type": "code",
   "execution_count": null,
   "metadata": {
    "slideshow": {
     "slide_type": "-"
    }
   },
   "outputs": [],
   "source": [
    "from random import randrange\n",
    "cislo = randrange(2)\n",
    "\n",
    "if cislo == 0:\n",
    "    tah_pocitace = \"kámen\"\n",
    "    print(\"Počítač vybral kámen.\")\n",
    "elif cislo == 1:\n",
    "    print(\"Počítač vybral nůžky.\")\n",
    "    tah_pocitace = \"nůžky\"\n",
    "else:\n",
    "    tah_pocitace = \"papír\"\n",
    "    print(\"Počítač vybral papír.\")"
   ]
  },
  {
   "cell_type": "markdown",
   "metadata": {
    "slideshow": {
     "slide_type": "slide"
    }
   },
   "source": [
    "## Najdu chybu 2"
   ]
  },
  {
   "cell_type": "markdown",
   "metadata": {},
   "source": [
    "Copak se asi stane s proměnnou `strana` ještě před výpočtem povrchu a objemu?"
   ]
  },
  {
   "cell_type": "code",
   "execution_count": null,
   "metadata": {},
   "outputs": [],
   "source": [
    "strana = int(input('Zadej velikost strany v cm: '))\n",
    "strana = 2852\n",
    "print('Objem krychle o straně',strana,'cm je', strana**3,'cm3')\n",
    "print('Obsah krychle o straně',strana,'cm je', 6*strana**2,'cm2')"
   ]
  },
  {
   "cell_type": "markdown",
   "metadata": {
    "slideshow": {
     "slide_type": "slide"
    }
   },
   "source": [
    "## Šťastná - bohatá"
   ]
  },
  {
   "cell_type": "markdown",
   "metadata": {},
   "source": [
    "Několik možných řešení programu šťastná-bohatá. Všechny dělají totéž, ale některé jsou zkrátka lépe čitelné a kompaktnější."
   ]
  },
  {
   "cell_type": "markdown",
   "metadata": {
    "slideshow": {
     "slide_type": "slide"
    }
   },
   "source": [
    "### Řešení 1"
   ]
  },
  {
   "cell_type": "code",
   "execution_count": null,
   "metadata": {},
   "outputs": [],
   "source": [
    "print('Odpovídej \"ano\" nebo \"ne\".')\n",
    "stastna_retezec = input('Jsi šťastná?')\n",
    "bohata_retezec = input('Jsi bohatá?')\n",
    "\n",
    "if stastna_retezec == 'ano':\n",
    "    if bohata_retezec == 'ano':\n",
    "        print (\"ty se máš\")\n",
    "    elif bohata_retezec == 'ne':\n",
    "        print (\"zkus mín utrácet\")\n",
    "elif stastna_retezec == 'ne':\n",
    "    if bohata_retezec == 'ano':\n",
    "        print (\"zkus se víc usmívat\")\n",
    "    elif bohata_retezec == 'ne':\n",
    "        print (\"to je mi líto\")\n",
    "else:\n",
    "    print (\"Nerozumím.\")"
   ]
  },
  {
   "cell_type": "markdown",
   "metadata": {
    "slideshow": {
     "slide_type": "slide"
    }
   },
   "source": [
    "### Řešení 2"
   ]
  },
  {
   "cell_type": "code",
   "execution_count": null,
   "metadata": {},
   "outputs": [],
   "source": [
    "print('Odpovídej \"ano\" nebo \"ne\".')\n",
    "stastna_retezec = input('Jsi šťastná?')\n",
    "bohata_retezec = input('Jsi bohatá?')\n",
    "\n",
    "if stastna_retezec == 'ano' and bohata_retezec == 'ano':\n",
    "    print (\"Grauluji\")\n",
    "elif stastna_retezec == 'ano' and bohata_retezec == 'ne':\n",
    "    print('Zkus míň utrácet.')\n",
    "elif stastna_retezec == 'ne' and bohata_retezec == 'ano':\n",
    "    print (\"zkus se víc usmívat\")\n",
    "elif stastna_retezec == 'ne' and bohata_retezec == 'ne':\n",
    "    print (\"to je mi líto\")\n",
    "else:\n",
    "    print (\"Nerozumim\")"
   ]
  },
  {
   "cell_type": "markdown",
   "metadata": {
    "slideshow": {
     "slide_type": "slide"
    }
   },
   "source": [
    "### Řešení 3"
   ]
  },
  {
   "cell_type": "code",
   "execution_count": null,
   "metadata": {},
   "outputs": [],
   "source": [
    "print('Odpovídej \"ano\" nebo \"ne\".')\n",
    "stastna_retezec = input('Jsi šťastná? ')\n",
    "if stastna_retezec == 'ano':\n",
    "    stastna = True\n",
    "elif stastna_retezec == 'ne':\n",
    "    stastna = False\n",
    "else:\n",
    "    print('Nerozumím!')\n",
    "\n",
    "bohata_retezec = input('Jsi bohatá? ')\n",
    "if bohata_retezec == 'ano':\n",
    "    bohata = True\n",
    "elif bohata_retezec == 'ne':\n",
    "    bohata = False\n",
    "else:\n",
    "    print('Nerozumím!')\n",
    "\n",
    "if bohata and stastna:\n",
    "    print('Gratuluji!')\n",
    "elif bohata:\n",
    "    print('Zkus se víc usmívat.')\n",
    "elif stastna:\n",
    "    print('Zkus míň utrácet.')\n",
    "else:\n",
    "    print('To je mi líto.')"
   ]
  },
  {
   "cell_type": "markdown",
   "metadata": {
    "slideshow": {
     "slide_type": "slide"
    }
   },
   "source": [
    "## Otázka: Jak na hezké chybové hlášky a blbuvzdorný program?"
   ]
  },
  {
   "cell_type": "markdown",
   "metadata": {},
   "source": [
    "Chybová hláška nejčastěji znamená vyvolanou výjimku, které se naučíme odchytávat a zpracovávat později."
   ]
  },
  {
   "cell_type": "markdown",
   "metadata": {
    "slideshow": {
     "slide_type": "slide"
    }
   },
   "source": [
    "## Obecné rady, prosby a doporučení"
   ]
  },
  {
   "cell_type": "markdown",
   "metadata": {},
   "source": [
    "- Pochvala za krásné formátování odpovědí.\n",
    "- Pochvala za angličtinu v komentářích (pro jednu z vás).\n",
    "- Žádné obrázky, fotky monitoru nebo screenshoty - vše jen jako psaný text nebo program v Pythonu s příponou .py.\n",
    "- Klidně dávejte do jednoho souboru více úloh, ale dejte pozor, aby na konci byly všechny odkomentované a funkční\n",
    "- Promměné píšeme vždy malými písmeny. Časem narazíme na jiné pojmenovávání, kde velká písmena použijeme k rozlišení od obyčejných proměnných.\n",
    "- Názvy proměnných mají mít vysvětlující charakter, takže jednoznakové názvy jsou zapovězeny.\n",
    "- Dávejte pozor na počty mezer. Odsazuje se vždy čtyřmi mezerami a násobky čtyř.\n",
    "- Spouštějte (testujte) svůj program. Na většinu chyb narazíte samy, pokud budete sledovat, co váš program dělá.\n",
    "- Importy patří na samotný začátek souboru.\n",
    "- Pište komentáře. Když narazím na špatné řešení, snáze se mi radí, když vím, jak jste se k němu dostaly a na co jste při tom myslely. Komentáře ke standardním věcem psát netřeba.\n",
    "- Odevzdávejte nejpozději v pondělí večer!"
   ]
  }
 ],
 "metadata": {
  "celltoolbar": "Slideshow",
  "kernelspec": {
   "display_name": "Python 3",
   "language": "python",
   "name": "python3"
  },
  "language_info": {
   "codemirror_mode": {
    "name": "ipython",
    "version": 3
   },
   "file_extension": ".py",
   "mimetype": "text/x-python",
   "name": "python",
   "nbconvert_exporter": "python",
   "pygments_lexer": "ipython3",
   "version": "3.6.6"
  }
 },
 "nbformat": 4,
 "nbformat_minor": 2
}
