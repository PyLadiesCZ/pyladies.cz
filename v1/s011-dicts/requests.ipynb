{
 "cells": [
  {
   "cell_type": "markdown",
   "metadata": {},
   "source": [
    "# Requests\n",
    "\n",
    "Nejdřiv si nainstaluj Requests, knihovnu pro webové klienty:\n",
    "\n",
    "    $ pip install requests\n",
    "    \n",
    "A pak v Pythonu:"
   ]
  },
  {
   "cell_type": "code",
   "execution_count": 1,
   "metadata": {
    "collapsed": false
   },
   "outputs": [],
   "source": [
    "import requests"
   ]
  },
  {
   "cell_type": "markdown",
   "metadata": {},
   "source": [
    "Knihovna Requests ti umožní stahovat webové stránky serverů na Internetu, podobně jako to dělá webový prohlížeč.\n",
    "(Prohlížeče umí pak stránky umí i zobrazis, Requests je jen stahuje.)\n",
    "\n",
    "Zkusíme si to napřed se stránkou http://python.cz:"
   ]
  },
  {
   "cell_type": "code",
   "execution_count": 2,
   "metadata": {
    "collapsed": false
   },
   "outputs": [],
   "source": [
    "odpoved = requests.get('http://python.cz')"
   ]
  },
  {
   "cell_type": "markdown",
   "metadata": {},
   "source": [
    "Requests za tebe vytvořil dotaz, který poslal serveru jménem \"python.cz\". V dotazu jsou \"hlavičky\", které určují co přesně stáhnout:"
   ]
  },
  {
   "cell_type": "code",
   "execution_count": 3,
   "metadata": {
    "collapsed": false
   },
   "outputs": [
    {
     "name": "stdout",
     "output_type": "stream",
     "text": [
      "{'Connection': 'keep-alive', 'Accept-Encoding': 'gzip, deflate', 'Accept': '*/*', 'User-Agent': 'python-requests/2.5.0 CPython/2.7.8 Linux/3.18.5-201.fc21.x86_64'}\n"
     ]
    }
   ],
   "source": [
    "print(odpoved.request.headers)"
   ]
  },
  {
   "cell_type": "markdown",
   "metadata": {},
   "source": [
    "Server pak vrátil odpověď, která má také nějaké hlavičky..."
   ]
  },
  {
   "cell_type": "code",
   "execution_count": 4,
   "metadata": {
    "collapsed": false
   },
   "outputs": [
    {
     "name": "stdout",
     "output_type": "stream",
     "text": [
      "{'content-encoding': 'gzip', 'transfer-encoding': 'chunked', 'expires': 'Mon, 16 Feb 2015 10:00:50 GMT', 'server': 'GitHub.com', 'last-modified': 'Sun, 15 Feb 2015 19:38:20 GMT', 'cache-control': 'max-age=600', 'date': 'Mon, 16 Feb 2015 09:50:50 GMT', 'content-type': 'text/html; charset=utf-8'}\n"
     ]
    }
   ],
   "source": [
    "print(odpoved.headers)"
   ]
  },
  {
   "cell_type": "markdown",
   "metadata": {},
   "source": [
    "... a hlavně tělo odpovědi – v tomto případě HTML stránku:"
   ]
  },
  {
   "cell_type": "code",
   "execution_count": 5,
   "metadata": {
    "collapsed": false
   },
   "outputs": [
    {
     "name": "stdout",
     "output_type": "stream",
     "text": [
      "<!doctype html>\n",
      "<html lang=\"cs\">\n",
      "<head>\n",
      "    <meta charset=\"utf-8\">\n",
      "\n",
      "    <title>Python, programovací jazyk</title>\n",
      "    <meta property=\"og:title\" content=\"Python, programovací jazyk\">\n",
      "\n",
      "    <meta name=\"d\n"
     ]
    }
   ],
   "source": [
    "print(odpoved.text[:200])  # text odpovědi"
   ]
  },
  {
   "cell_type": "markdown",
   "metadata": {},
   "source": [
    "Když dáš v prohlížeči zobrazit zdrojový kód stránky http://python.cz, vypadat stejně.\n",
    "\n",
    "Requests toho umí spoustu; kompletní dokumentace je na http://docs.python-requests.org.\n",
    "\n",
    "# Twitter API\n",
    "\n",
    "Normální internetové stránky jsou uzpůsobené pro lidské čtenáře. Existují ale i \"stránky\" dělané na to, aby je zpracovávaly programy. Vžilo se pro ně označení \"API\" (angl. Application Programming Interface, rozhraní pro programování aplikací). (Přesnější termín je \"Webové API\" nebo \"REST API\", protože \"API\" označovat jakékoli programátorské rozhraní – např. seznam metod pythoních slovníků je slovníkové API.)\n",
    "\n",
    "Jedna ze stránek, které mají API, je Twitter. Jejich API je na stránce https://dev.twitter.com/rest/public. Zkusme ho použít: na stránce https://api.twitter.com/1.1/search/tweets.json by mělo jít hledat tweety:"
   ]
  },
  {
   "cell_type": "code",
   "execution_count": 6,
   "metadata": {
    "collapsed": false
   },
   "outputs": [
    {
     "data": {
      "text/plain": [
       "'{\"errors\":[{\"code\":215,\"message\":\"Bad Authentication data.\"}]}'"
      ]
     },
     "execution_count": 6,
     "metadata": {},
     "output_type": "execute_result"
    }
   ],
   "source": [
    "odpoved = requests.get('https://api.twitter.com/1.1/search/tweets.json')\n",
    "odpoved.text"
   ]
  },
  {
   "cell_type": "markdown",
   "metadata": {},
   "source": [
    "Aj, chyba! Twitter je zabezpečený. Musíme se přihlásit jako aplikace, což bohužel není vůbec jednoduché.\n",
    "\n",
    "První krok je klasické přihlášení (nebo vytvoření účtu) na twitter.com. Potom jdi na stránku https://apps.twitter.com/, a vytvoř si tam aplikaci. (Jako jméno doporučuju třeba \"*xyz*-test\" kde *xyz* je tvoje jméno. Jako webovou adresu můžeš použít neexistující \"http://test.example\". Je taky potřeba doplnit dostatečně dlouhý popisek.)\n",
    "\n",
    "Po vytvoření aplikace si otevři její záznam a jdi na záložku \"Keys and Access Tokens\". Tam najdeš dvě speciální hesla, kterým se můžeš přihlásit. Zkopíruj si je do Pythonu:"
   ]
  },
  {
   "cell_type": "code",
   "execution_count": 7,
   "metadata": {
    "collapsed": false
   },
   "outputs": [],
   "source": [
    "# Dosaď svoje údaje!\n",
    "api_key = \"D4HJp6PKmpon9eya1b2c3d4e5\"\n",
    "api_secret = \"rhvasRMhvbuHJpu4MIuAb4WO50gnoQa1b2c3d4e5f6g7h8i9j0\""
   ]
  },
  {
   "cell_type": "markdown",
   "metadata": {},
   "source": [
    "Tyto kódy je potřeba určitým způsobem spojit dohromady a poslat Twitteru, aby vytvořil *další* heslo, které pak půjde použít pro API. Ten způsob se naštěstí dá zapsat programem:"
   ]
  },
  {
   "cell_type": "code",
   "execution_count": 8,
   "metadata": {
    "collapsed": false
   },
   "outputs": [
    {
     "data": {
      "text/plain": [
       "'{\"token_type\":\"bearer\",\"access_token\":\"AAAAAAAAAAAAAAAAAAAAAHhKXAAAAAAAaA1abB2bcC3cdD4deE5efF6fgG7ghH8hiI9ijJ0ja1b2c3d4e5f6g7h8i9j0a1b2c3d4e5f6g7h8i9j0\"}'"
      ]
     },
     "execution_count": 8,
     "metadata": {},
     "output_type": "execute_result"
    }
   ],
   "source": [
    "# Zakódování hesla\n",
    "import base64\n",
    "secret = '{}:{}'.format(api_key, api_secret)\n",
    "secret64 = base64.b64encode(secret.encode('ascii')).decode('ascii')\n",
    "\n",
    "# Vytvoření speciální hlavičky pro požadavek\n",
    "headers = {\n",
    "    'Authorization': 'Basic {}'.format(secret64),\n",
    "    'Host': 'api.twitter.com',\n",
    "}\n",
    "\n",
    "# Odeslání požadavku.\n",
    "# Předtím jsme použily funkci \"requests.get\", která stáhne informace ze serveru.\n",
    "# Tady je metoda \"requests.post\", která serveru řekne aby provedl nějakou operaci.\n",
    "# GET, POST, a ostatní HTTP metody jsou popsané na http://www.w3.org/Protocols/rfc2616/rfc2616-sec9.html\n",
    "odpoved = requests.post('https://api.twitter.com/oauth2/token',\n",
    "                        headers=headers,\n",
    "                        data={'grant_type': 'client_credentials'})\n",
    "odpoved.text"
   ]
  },
  {
   "cell_type": "markdown",
   "metadata": {},
   "source": [
    "Odpověď nám přišla jako řetězec, ve formátu JSON. JSON je ve světě vebových API častý, a tak má Requests přímo metodu, která JSON dekóduje. Můžeš si tak ušetřit psaní `import json` a `json.loads(odpoved.text)`.\n",
    "\n",
    "Z odpovědi nás zajímá heslo jménem `access_token`."
   ]
  },
  {
   "cell_type": "code",
   "execution_count": 9,
   "metadata": {
    "collapsed": false
   },
   "outputs": [
    {
     "data": {
      "text/plain": [
       "'AAAAAAAAAAAAAAAAAAAAAHhKXAAAAAAAaA1abB2bcC3cdD4deE5efF6fgG7ghH8hiI9ijJ0ja1b2c3d4e5f6g7h8i9j0a1b2c3d4e5f6g7h8i9j0'"
      ]
     },
     "execution_count": 9,
     "metadata": {},
     "output_type": "execute_result"
    }
   ],
   "source": [
    "bearer_token = odpoved.json()['access_token']\n",
    "bearer_token"
   ]
  },
  {
   "cell_type": "markdown",
   "metadata": {},
   "source": [
    "Tohle heslo si můžeš zapsat přímo do programu, a jeho získávání příště přeskočit (místo všeho od `api_key = ...` napsat jen `bearer_token = 'AAAA...'`.\n",
    "\n",
    "Blížíme se ke konci! Teď si uděláme si objekt `Session` s nastavenými přihlašovacími údaji. Tím řekneme knihovně Requests, aby tohle nové heslo používala pro další dotazy."
   ]
  },
  {
   "cell_type": "code",
   "execution_count": 10,
   "metadata": {
    "collapsed": false
   },
   "outputs": [],
   "source": [
    "def bearer_auth(req):\n",
    "    req.headers['Authorization'] = 'Bearer ' + bearer_token\n",
    "    return req\n",
    "\n",
    "session = requests.Session()\n",
    "session.auth = bearer_auth"
   ]
  },
  {
   "cell_type": "markdown",
   "metadata": {},
   "source": [
    "A teď když místo `requests.get` použiješ `session.get`, budeš přihlášená.\n",
    "\n",
    "Zkus znovu stáhnout stránku https://api.twitter.com/1.1/search/tweets.json. Tentokrát s parametrem `'q'`, který říká co hledáš:"
   ]
  },
  {
   "cell_type": "code",
   "execution_count": 11,
   "metadata": {
    "collapsed": false
   },
   "outputs": [],
   "source": [
    "odpoved = session.get(\n",
    "    'https://api.twitter.com/1.1/search/tweets.json',\n",
    "    params={'q': '#vesmír'},\n",
    ")"
   ]
  },
  {
   "cell_type": "markdown",
   "metadata": {},
   "source": [
    "Zkus si vypsat `odpoved.json()`. Zjistíš, že je to slovník plný spooousty informací. Nejzajímavější z nich je pod klíčem `'statuses'`: *seznam* tweetů. Každý tweet je zase slovník spousty informací; samotný text je pod klíčem `'text'`.\n",
    "\n",
    "Tweety se tedy dají vypsat takhle:"
   ]
  },
  {
   "cell_type": "code",
   "execution_count": 12,
   "metadata": {
    "collapsed": false
   },
   "outputs": [
    {
     "name": "stdout",
     "output_type": "stream",
     "text": [
      "Zajímavá hypotéza o vlivu skryté #energie na trpasličí #galaxie. http://t.co/uiSRUA4ShF | #vesmír #temnaenergie\n",
      "RT @RudyMarsCz: Probíhá na povrchu #Venuše aktivní sopečná činnost? Odpověď nabízí RudyMars http://t.co/8tKms9tdfv #vesmír #astronomie #Cze…\n",
      "Probíhá na povrchu #Venuše aktivní sopečná činnost? Odpověď nabízí RudyMars http://t.co/8tKms9tdfv #vesmír #astronomie #Czech #sopky\n",
      "RT @vjkombajn: Velký třesk možná nebyl...\n",
      "http://t.co/Z22qVg8XmC #veda #vesmir\n",
      "RT @vjkombajn: Velký třesk možná nebyl...\n",
      "http://t.co/Z22qVg8XmC #veda #vesmir\n",
      "RT @vjkombajn: Velký třesk možná nebyl...\n",
      "http://t.co/Z22qVg8XmC #veda #vesmir\n",
      "RT @vjkombajn: Velký třesk možná nebyl...\n",
      "http://t.co/Z22qVg8XmC #veda #vesmir\n",
      "RT @vjkombajn: Velký třesk možná nebyl...\n",
      "http://t.co/Z22qVg8XmC #veda #vesmir\n",
      "Velký třesk možná nebyl...\n",
      "http://t.co/Z22qVg8XmC #veda #vesmir\n",
      "Zoznámte sa: Toto sú ľudia, ktorí chcú opustiť #Zem a kolonizovať #Mars http://t.co/FlaSwMuQSC #vesmir #kolonizacia #planetaMars\n",
      "RT @RudyMarsCz: Jak staré jsou #sopky na Marsu? Odpověď nabízí článek na RudyMars.cz http://t.co/iOTxYxoN3Q #vesmír #astronomie #Mars #Czech\n",
      "Jak staré jsou #sopky na Marsu? Odpověď nabízí článek na RudyMars.cz http://t.co/iOTxYxoN3Q #vesmír #astronomie #Mars #Czech\n",
      "RT @CRoPlus: Podívejte se s námi do technologicky pokročilého planetária v Hradci Králové http://t.co/uL0g0U4AeT #vesmír http://t.co/LbomIA…\n",
      "RT @CRoPlus: Podívejte se s námi do technologicky pokročilého planetária v Hradci Králové http://t.co/uL0g0U4AeT #vesmír http://t.co/LbomIA…\n",
      "Podívejte se s námi do technologicky pokročilého planetária v Hradci Králové http://t.co/uL0g0U4AeT #vesmír http://t.co/LbomIAfMVj\n"
     ]
    }
   ],
   "source": [
    "data = odpoved.json()\n",
    "\n",
    "for tweet in data['statuses']:\n",
    "    print(tweet['text'])"
   ]
  },
  {
   "cell_type": "markdown",
   "metadata": {},
   "source": [
    "Na závěr varování: hesla z tohoto příkladu sice slouží jen pro čtení, ale pokud se dostanou do špatných rukou, dá se s nimi napáchat neplecha – Twitter ti pak může zablokovat účet, což může být docela nepříjemné.\n",
    "\n",
    "Hesla tedy nikomu neukazuj. Pokud je přesto někdo nezvaný uvidí, jdi na https://apps.twitter.com a změň je (tlačítko \"Regenerate Consumer Key and Secret\" pod Keys and Access Tokens)."
   ]
  }
 ],
 "metadata": {
  "kernelspec": {
   "display_name": "Python 3",
   "language": "python",
   "name": "python3"
  },
  "language_info": {
   "codemirror_mode": {
    "name": "ipython",
    "version": 3
   },
   "file_extension": ".py",
   "mimetype": "text/x-python",
   "name": "python",
   "nbconvert_exporter": "python",
   "pygments_lexer": "ipython3",
   "version": "3.5.4"
  }
 },
 "nbformat": 4,
 "nbformat_minor": 2
}
