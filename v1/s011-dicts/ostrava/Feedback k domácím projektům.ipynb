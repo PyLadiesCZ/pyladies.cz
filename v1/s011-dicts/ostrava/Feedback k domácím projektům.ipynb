{
 "cells": [
  {
   "cell_type": "markdown",
   "metadata": {},
   "source": [
    "## Mocniny čísel"
   ]
  },
  {
   "cell_type": "code",
   "execution_count": 1,
   "metadata": {},
   "outputs": [
    {
     "name": "stdout",
     "output_type": "stream",
     "text": [
      "{1: 1, 2: 4, 3: 9, 4: 16, 5: 25, 6: 36, 7: 49, 8: 64, 9: 81, 10: 100}\n"
     ]
    }
   ],
   "source": [
    "cisla = [(1, 1), (2, 4), (3, 9), (4, 16), (5, 25), (6,36), (7, 49), (8, 64), (9, 81), (10, 100)]\n",
    "mocniny = dict(cisla)\n",
    "print(mocniny)"
   ]
  },
  {
   "cell_type": "markdown",
   "metadata": {
    "slideshow": {
     "slide_type": "slide"
    }
   },
   "source": [
    "## Skautská hra"
   ]
  },
  {
   "cell_type": "code",
   "execution_count": null,
   "metadata": {},
   "outputs": [],
   "source": [
    "import random\n",
    "\n",
    "while True:\n",
    "    odpoved = input('Na kolik odpovědí chceš hrát? ')\n",
    "    try:\n",
    "        odpoved = int(odpoved)\n",
    "        break\n",
    "    except ValueError:\n",
    "        print('Musíš napsat celé číslo!')\n",
    "\n",
    "kdo = []\n",
    "s_kym = []\n",
    "co_delali = []\n",
    "kde = []\n",
    "kdy = []\n",
    "proc = []\n",
    "\n",
    "vsechno = [kdo,s_kym,co_delali,kde,kdy,proc]\n",
    "\n",
    "for i in range (odpoved):\n",
    "    kdo1 = input ('Kdo? ')\n",
    "    s_kym1 = input ('S kým? ')\n",
    "    co_delali1 = input ('Co dělali? ')\n",
    "    kde1 = input ('Kde? ')\n",
    "    kdy1 = input ('Kdy? ')\n",
    "    proc1 = input ('Proč? ')\n",
    "    print('')\n",
    "\n",
    "    kdo.append(kdo1)\n",
    "    s_kym.append(s_kym1)\n",
    "    co_delali.append(co_delali1)\n",
    "    kde.append(kde1)\n",
    "    kdy.append(kdy1)\n",
    "    proc.append(proc1)\n",
    "\n",
    "a=random.choice(kdo)\n",
    "b=random.choice(s_kym)\n",
    "c=random.choice(co_delali)\n",
    "d=random.choice(kde)\n",
    "e=random.choice(kdy)\n",
    "f=random.choice(proc)\n",
    "\n",
    "print(a, b, c, d, e, f)"
   ]
  },
  {
   "cell_type": "markdown",
   "metadata": {
    "slideshow": {
     "slide_type": "slide"
    }
   },
   "source": [
    "Řešení bez slovníků, ale hlavně takové, kde by nebylo úplně snadné přidat další otázky."
   ]
  },
  {
   "cell_type": "code",
   "execution_count": null,
   "metadata": {
    "slideshow": {
     "slide_type": "fragment"
    }
   },
   "outputs": [],
   "source": [
    "import random\n",
    "\n",
    "kdo_seznam = []\n",
    "s_kym_seznam = []\n",
    "kde_seznam = []\n",
    "co_delali_seznam = []\n",
    "proc_seznam = []\n",
    "for pocet in range(3):\n",
    "    kdo = input('Kdo? ')\n",
    "    kdo_seznam.append(kdo)\n",
    "    s_kym = input('S kým? ')\n",
    "    s_kym_seznam.append(s_kym)\n",
    "    kde = input('Kde? ')\n",
    "    kde_seznam.append(kde)\n",
    "    co_delali = input('Co dělali? ')\n",
    "    co_delali_seznam.append(co_delali)\n",
    "    proc = input('Proč? ')\n",
    "    proc_seznam.append(proc)\n",
    "print(random.choice(kdo_seznam), 's', random.choice(s_kym_seznam),'v', random.choice(kde_seznam), random.choice(co_delali_seznam), random.choice(proc_seznam))"
   ]
  },
  {
   "cell_type": "markdown",
   "metadata": {
    "slideshow": {
     "slide_type": "slide"
    }
   },
   "source": [
    "Řešení, kde přidání, změna či odebrání jakékoli otázky znamená jen změnu na jednom míste v seznamu otázek."
   ]
  },
  {
   "cell_type": "code",
   "execution_count": null,
   "metadata": {
    "slideshow": {
     "slide_type": "fragment"
    }
   },
   "outputs": [],
   "source": [
    "from random import choice\n",
    "\n",
    "otazky = ['Kdo', 'S kym', 'Co delali', 'Kde']\n",
    "\n",
    "odpovedi = {}\n",
    "for otazka in otazky:\n",
    "    odpovedi[otazka] = []\n",
    "\n",
    "# Alternativní cesta\n",
    "# odpovedi = {otazka: [] for otazka in otazky}\n",
    "    \n",
    "for otazka in otazky:\n",
    "    while True:\n",
    "        odpoved = input('Zadej odpoved na otazku {}? '.format(otazka))\n",
    "        if not odpoved:\n",
    "            break\n",
    "        else:\n",
    "            odpovedi[otazka].append(odpoved)\n",
    "\n",
    "veta = ''\n",
    "\n",
    "for otazka in otazky:\n",
    "    veta = veta + choice(odpovedi[otazka]) + ' '\n",
    "\n",
    "print(veta)"
   ]
  },
  {
   "cell_type": "markdown",
   "metadata": {
    "slideshow": {
     "slide_type": "slide"
    }
   },
   "source": [
    "## Obecné rady a postřehy"
   ]
  },
  {
   "cell_type": "markdown",
   "metadata": {
    "slideshow": {
     "slide_type": "fragment"
    }
   },
   "source": [
    "* Pokud nevracíme n-tici, nepoužíváme za `return` závorky\n",
    "  * `return (n)` je matoucí, správně by mělo být napáno jen `return n`\n",
    "  * `return  (x, y)` je správně, ale pro jednoduchost můžeme závorky klině vynechat a napsat jen `return x, y`\n",
    "* Pochvala za validaci inputů\n",
    "  * Ještě větší pochvala za validaci s pomocí výjimek\n",
    "* Pochvala za dokumentační řetězce\n",
    "  * Ještě větší pochvala za dokumentační řetězce ve třech uvozovkách\n",
    "    * A ještě větší pochvala těm, kdož jsou konzistentní a dávají dokumentační řetězce úplně všude\n",
    "---\n",
    "* Pokud je váš projekt složen z více souborů, udělejte z něj archiv (.zip), aby si soubory zachovaly jméno\n",
    "* Dělejte samostatné soubory pro samostatné úlohy\n",
    "* Proměnné s nicneříkajícími názvy se vám vymstí"
   ]
  }
 ],
 "metadata": {
  "kernelspec": {
   "display_name": "Python 3",
   "language": "python",
   "name": "python3"
  },
  "language_info": {
   "codemirror_mode": {
    "name": "ipython",
    "version": 3
   },
   "file_extension": ".py",
   "mimetype": "text/x-python",
   "name": "python",
   "nbconvert_exporter": "python",
   "pygments_lexer": "ipython3",
   "version": "3.6.6"
  }
 },
 "nbformat": 4,
 "nbformat_minor": 2
}
