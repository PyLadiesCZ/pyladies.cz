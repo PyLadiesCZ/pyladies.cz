{
 "cells": [
  {
   "cell_type": "markdown",
   "metadata": {
    "slideshow": {
     "slide_type": "-"
    }
   },
   "source": [
    "## Tah hráče"
   ]
  },
  {
   "cell_type": "markdown",
   "metadata": {},
   "source": [
    "### Je tam opravdu vše potřeba?"
   ]
  },
  {
   "cell_type": "code",
   "execution_count": null,
   "metadata": {},
   "outputs": [],
   "source": [
    "def tah_hrace (pole):\n",
    "    'Vrátí herní pole se zaznamenaným tahem hráče'\n",
    "    t = 0\n",
    "    while t == 0:\n",
    "        pozice = int(input('Na které políčko chceš hrát? '))\n",
    "        if (pozice > 0) and (pozice<=20) and (pole[pozice-1] == '-'):\n",
    "            return tah(pole,pozice,'x')\n",
    "            t = 1\n",
    "        else:\n",
    "            print('Špatně zadaná pozice, zkus to znovu.')"
   ]
  },
  {
   "cell_type": "markdown",
   "metadata": {
    "slideshow": {
     "slide_type": "-"
    }
   },
   "source": [
    "### Není"
   ]
  },
  {
   "cell_type": "code",
   "execution_count": null,
   "metadata": {},
   "outputs": [],
   "source": [
    "def tah_hrace(pole):\n",
    "    'Vrátí herní pole se zaznamenaným tahem hráče'\n",
    "    while True:\n",
    "        pozice = int(input('Na které políčko chceš hrát? '))\n",
    "        if (pozice > 0) and (pozice<=20) and (pole[pozice-1] == '-'):\n",
    "            return tah(pole,pozice,'x')\n",
    "        else:\n",
    "            print('Špatně zadaná pozice, zkus to znovu.')"
   ]
  },
  {
   "cell_type": "markdown",
   "metadata": {
    "slideshow": {
     "slide_type": "-"
    }
   },
   "source": [
    "## Vyhodnocení piškvorek"
   ]
  },
  {
   "cell_type": "markdown",
   "metadata": {},
   "source": [
    "### Co by se tady dalo udělat jednodušeji?"
   ]
  },
  {
   "cell_type": "code",
   "execution_count": null,
   "metadata": {},
   "outputs": [],
   "source": [
    "def vyhodnot(pole):\n",
    "    \"Vyhodnotí stav pole.\"\n",
    "    krizek = \"xxx\"\n",
    "    kolecko = \"ooo\"\n",
    "    volno = \"-\"\n",
    "    if krizek in pole and kolecko not in pole:\n",
    "        return(\"x\")\n",
    "    elif kolecko in pole and krizek not in pole:\n",
    "        return(\"o\")\n",
    "    elif volno not in pole and krizek not in pole and kolecko not in pole:\n",
    "        return(\"!\")\n",
    "    else:\n",
    "        None"
   ]
  },
  {
   "cell_type": "markdown",
   "metadata": {
    "slideshow": {
     "slide_type": "-"
    }
   },
   "source": [
    "### Upravená varianta"
   ]
  },
  {
   "cell_type": "code",
   "execution_count": null,
   "metadata": {},
   "outputs": [],
   "source": [
    "def vyhodnot(pole):\n",
    "    \"Vyhodnotí stav pole.\"\n",
    "    if 'xxx' in pole:\n",
    "        return(\"x\")\n",
    "    elif 'ooo' in pole:\n",
    "        return(\"o\")\n",
    "    elif '-' not in pole:\n",
    "        return(\"!\")\n",
    "    else:\n",
    "        return '-'"
   ]
  },
  {
   "cell_type": "markdown",
   "metadata": {
    "slideshow": {
     "slide_type": "-"
    }
   },
   "source": [
    "## Piškvorky"
   ]
  },
  {
   "cell_type": "code",
   "execution_count": null,
   "metadata": {},
   "outputs": [],
   "source": [
    "from random import randrange\n",
    "\n",
    "def vyhodnot(pole):\n",
    "    \"Vyhodnotí stav pole.\"\n",
    "    if 'xxx' in pole:\n",
    "        return(\"x\")\n",
    "    elif 'ooo' in pole:\n",
    "        return(\"o\")\n",
    "    elif '-' not in pole:\n",
    "        return(\"!\")\n",
    "    else:\n",
    "        return '-'\n",
    "\n",
    "def tah(pole, pozice, symbol):\n",
    "    \"Vrátí herní pole s daným symbolem umístěným na danou pozici.\"\n",
    "    return pole[:pozice] + symbol + pole[pozice + 1:]\n",
    "\n",
    "def tah_hrace(herni_pole):\n",
    "    \"Ptá se hráče na kterou pozici chce hrát a vrací herní pole se zaznamenaným tahem\"\n",
    "    while True:\n",
    "        cislo_pozice = int(input(\"Na kterou pozici chceš hrát? \"))\n",
    "        if cislo_pozice >= 0 and cislo_pozice < len(herni_pole) and herni_pole[cislo_pozice] == \"-\":\n",
    "            return tah(herni_pole, cislo_pozice, \"x\")\n",
    "        else:\n",
    "            print(\"Špatná pozice, zkus to znovu. \")\n",
    "\n",
    "def tah_pocitace(herni_pole):\n",
    "    \"Vrátí herní pole se zaznamenaným tahem počítače. \"\n",
    "    while True:\n",
    "        cislo_pozice = randrange(len(herni_pole))\n",
    "        if herni_pole[cislo_pozice] == \"-\":\n",
    "            return tah(herni_pole, cislo_pozice, \"o\")\n",
    "\n",
    "def piskvorky():\n",
    "    \"Vygeneruje prázdné pole a střídá tah hráče a počítače. \"\n",
    "    pole = \"-\" * 20\n",
    "    while True:\n",
    "        print(pole)\n",
    "        pole = tah_hrace(pole)\n",
    "        print(pole)\n",
    "        if vyhodnot(pole) != '-':\n",
    "            break\n",
    "        pole = tah_pocitace(pole)\n",
    "        if vyhodnot(pole) != '-':\n",
    "            break\n",
    "    \n",
    "    print(pole)\n",
    "    if vyhodnot(pole) == '!':\n",
    "        print('Remíza!')\n",
    "    elif vyhodnot(pole) == 'x':\n",
    "        print('Vyhrála jsi!')\n",
    "    elif vyhodnot(pole) == 'o':\n",
    "        print('Vyhrál počítač!')\n",
    "\n",
    "piskvorky()"
   ]
  },
  {
   "cell_type": "markdown",
   "metadata": {},
   "source": [
    "## Chyby v programu a jejich řešení"
   ]
  },
  {
   "cell_type": "markdown",
   "metadata": {},
   "source": [
    "Nejdříve chyby v syntaxi, na které si Python stěžuje ihned po přečtení programu."
   ]
  },
  {
   "cell_type": "code",
   "execution_count": 1,
   "metadata": {},
   "outputs": [
    {
     "ename": "SyntaxError",
     "evalue": "EOL while scanning string literal (<ipython-input-1-ccb09551c24e>, line 2)",
     "output_type": "error",
     "traceback": [
      "\u001b[0;36m  File \u001b[0;32m\"<ipython-input-1-ccb09551c24e>\"\u001b[0;36m, line \u001b[0;32m2\u001b[0m\n\u001b[0;31m    symbol_hrac = input('Chces o nebo x?)\u001b[0m\n\u001b[0m                                         ^\u001b[0m\n\u001b[0;31mSyntaxError\u001b[0m\u001b[0;31m:\u001b[0m EOL while scanning string literal\n"
     ]
    }
   ],
   "source": [
    "def piskvorky1d(symbol):\n",
    "    symbol_hrac = input('Chces o nebo x?)\n",
    "    pole= '-' * 20\n",
    "    print(pole)\n",
    "    vysledek == '-'\n",
    "\n",
    "    while vysledek =='-'\n",
    "    tah_hrace(pole,symbol_hrac)\n",
    "    print(pole)\n",
    "    if symbol_hrac == 'o':\n",
    "        symbol_pocitac == 'x'\n",
    "    else:\n",
    "        symbol_pocitac == 'o'\n",
    "    tah_pocitace(pole,symbol_pocitac)\n",
    "    print(pole)\n",
    "    vysledek == vyhodnot(pole)\n",
    "    print(vysledek)"
   ]
  },
  {
   "cell_type": "code",
   "execution_count": 2,
   "metadata": {},
   "outputs": [
    {
     "ename": "SyntaxError",
     "evalue": "invalid syntax (<ipython-input-2-caf4662f8092>, line 7)",
     "output_type": "error",
     "traceback": [
      "\u001b[0;36m  File \u001b[0;32m\"<ipython-input-2-caf4662f8092>\"\u001b[0;36m, line \u001b[0;32m7\u001b[0m\n\u001b[0;31m    while vysledek =='-'\u001b[0m\n\u001b[0m                        ^\u001b[0m\n\u001b[0;31mSyntaxError\u001b[0m\u001b[0;31m:\u001b[0m invalid syntax\n"
     ]
    }
   ],
   "source": [
    "def piskvorky1d(symbol):\n",
    "    symbol_hrac = input('Chces o nebo x?')\n",
    "    pole= '-' * 20\n",
    "    print(pole)\n",
    "    vysledek == '-'\n",
    "\n",
    "    while vysledek =='-'\n",
    "    tah_hrace(pole,symbol_hrac)\n",
    "    print(pole)\n",
    "    if symbol_hrac == 'o':\n",
    "        symbol_pocitac == 'x'\n",
    "    else:\n",
    "        symbol_pocitac == 'o'\n",
    "    tah_pocitace(pole,symbol_pocitac)\n",
    "    print(pole)\n",
    "    vysledek == vyhodnot(pole)\n",
    "    print(vysledek)"
   ]
  },
  {
   "cell_type": "code",
   "execution_count": 3,
   "metadata": {},
   "outputs": [
    {
     "ename": "IndentationError",
     "evalue": "expected an indented block (<ipython-input-3-849da4aa383b>, line 8)",
     "output_type": "error",
     "traceback": [
      "\u001b[0;36m  File \u001b[0;32m\"<ipython-input-3-849da4aa383b>\"\u001b[0;36m, line \u001b[0;32m8\u001b[0m\n\u001b[0;31m    tah_hrace(pole,symbol_hrac)\u001b[0m\n\u001b[0m            ^\u001b[0m\n\u001b[0;31mIndentationError\u001b[0m\u001b[0;31m:\u001b[0m expected an indented block\n"
     ]
    }
   ],
   "source": [
    "def piskvorky1d(symbol):\n",
    "    symbol_hrac = input('Chces o nebo x?')\n",
    "    pole= '-' * 20\n",
    "    print(pole)\n",
    "    vysledek == '-'\n",
    "\n",
    "    while vysledek =='-':\n",
    "    tah_hrace(pole,symbol_hrac)\n",
    "    print(pole)\n",
    "    if symbol_hrac == 'o':\n",
    "        symbol_pocitac == 'x'\n",
    "    else:\n",
    "        symbol_pocitac == 'o'\n",
    "    tah_pocitace(pole,symbol_pocitac)\n",
    "    print(pole)\n",
    "    vysledek == vyhodnot(pole)\n",
    "    print(vysledek)"
   ]
  },
  {
   "cell_type": "code",
   "execution_count": 4,
   "metadata": {},
   "outputs": [],
   "source": [
    "def piskvorky1d(symbol):\n",
    "    symbol_hrac = input('Chces o nebo x?')\n",
    "    pole= '-' * 20\n",
    "    print(pole)\n",
    "    vysledek == '-'\n",
    "\n",
    "    while vysledek =='-':\n",
    "        tah_hrace(pole,symbol_hrac)\n",
    "        print(pole)\n",
    "        if symbol_hrac == 'o':\n",
    "            symbol_pocitac == 'x'\n",
    "        else:\n",
    "            symbol_pocitac == 'o'\n",
    "        tah_pocitace(pole,symbol_pocitac)\n",
    "        print(pole)\n",
    "        vysledek == vyhodnot(pole)\n",
    "        print(vysledek)"
   ]
  },
  {
   "cell_type": "markdown",
   "metadata": {},
   "source": [
    "Pro řešení těch dalších už musíme kód v naší funkci spustit, jinak se o jeho chování nic nedozvíme."
   ]
  },
  {
   "cell_type": "code",
   "execution_count": 5,
   "metadata": {},
   "outputs": [
    {
     "ename": "TypeError",
     "evalue": "piskvorky1d() missing 1 required positional argument: 'symbol'",
     "output_type": "error",
     "traceback": [
      "\u001b[0;31m---------------------------------------------------------------------------\u001b[0m",
      "\u001b[0;31mTypeError\u001b[0m                                 Traceback (most recent call last)",
      "\u001b[0;32m<ipython-input-5-38c9f4d5522f>\u001b[0m in \u001b[0;36m<module>\u001b[0;34m()\u001b[0m\n\u001b[1;32m     17\u001b[0m         \u001b[0mprint\u001b[0m\u001b[0;34m(\u001b[0m\u001b[0mvysledek\u001b[0m\u001b[0;34m)\u001b[0m\u001b[0;34m\u001b[0m\u001b[0m\n\u001b[1;32m     18\u001b[0m \u001b[0;34m\u001b[0m\u001b[0m\n\u001b[0;32m---> 19\u001b[0;31m \u001b[0mpiskvorky1d\u001b[0m\u001b[0;34m(\u001b[0m\u001b[0;34m)\u001b[0m\u001b[0;34m\u001b[0m\u001b[0m\n\u001b[0m",
      "\u001b[0;31mTypeError\u001b[0m: piskvorky1d() missing 1 required positional argument: 'symbol'"
     ]
    }
   ],
   "source": [
    "def piskvorky1d(symbol):\n",
    "    symbol_hrac = input('Chces o nebo x?')\n",
    "    pole= '-' * 20\n",
    "    print(pole)\n",
    "    vysledek == '-'\n",
    "\n",
    "    while vysledek =='-':\n",
    "        tah_hrace(pole,symbol_hrac)\n",
    "        print(pole)\n",
    "        if symbol_hrac == 'o':\n",
    "            symbol_pocitac == 'x'\n",
    "        else:\n",
    "            symbol_pocitac == 'o'\n",
    "        tah_pocitace(pole,symbol_pocitac)\n",
    "        print(pole)\n",
    "        vysledek == vyhodnot(pole)\n",
    "        print(vysledek)\n",
    "\n",
    "piskvorky1d()"
   ]
  },
  {
   "cell_type": "code",
   "execution_count": 6,
   "metadata": {},
   "outputs": [
    {
     "name": "stdout",
     "output_type": "stream",
     "text": [
      "Chces o nebo x?x\n",
      "--------------------\n"
     ]
    },
    {
     "ename": "NameError",
     "evalue": "name 'vysledek' is not defined",
     "output_type": "error",
     "traceback": [
      "\u001b[0;31m---------------------------------------------------------------------------\u001b[0m",
      "\u001b[0;31mNameError\u001b[0m                                 Traceback (most recent call last)",
      "\u001b[0;32m<ipython-input-6-7bbdc769e0fd>\u001b[0m in \u001b[0;36m<module>\u001b[0;34m()\u001b[0m\n\u001b[1;32m     17\u001b[0m         \u001b[0mprint\u001b[0m\u001b[0;34m(\u001b[0m\u001b[0mvysledek\u001b[0m\u001b[0;34m)\u001b[0m\u001b[0;34m\u001b[0m\u001b[0m\n\u001b[1;32m     18\u001b[0m \u001b[0;34m\u001b[0m\u001b[0m\n\u001b[0;32m---> 19\u001b[0;31m \u001b[0mpiskvorky1d\u001b[0m\u001b[0;34m(\u001b[0m\u001b[0;34m)\u001b[0m\u001b[0;34m\u001b[0m\u001b[0m\n\u001b[0m",
      "\u001b[0;32m<ipython-input-6-7bbdc769e0fd>\u001b[0m in \u001b[0;36mpiskvorky1d\u001b[0;34m()\u001b[0m\n\u001b[1;32m      3\u001b[0m     \u001b[0mpole\u001b[0m\u001b[0;34m=\u001b[0m \u001b[0;34m'-'\u001b[0m \u001b[0;34m*\u001b[0m \u001b[0;36m20\u001b[0m\u001b[0;34m\u001b[0m\u001b[0m\n\u001b[1;32m      4\u001b[0m     \u001b[0mprint\u001b[0m\u001b[0;34m(\u001b[0m\u001b[0mpole\u001b[0m\u001b[0;34m)\u001b[0m\u001b[0;34m\u001b[0m\u001b[0m\n\u001b[0;32m----> 5\u001b[0;31m     \u001b[0mvysledek\u001b[0m \u001b[0;34m==\u001b[0m \u001b[0;34m'-'\u001b[0m\u001b[0;34m\u001b[0m\u001b[0m\n\u001b[0m\u001b[1;32m      6\u001b[0m \u001b[0;34m\u001b[0m\u001b[0m\n\u001b[1;32m      7\u001b[0m     \u001b[0;32mwhile\u001b[0m \u001b[0mvysledek\u001b[0m \u001b[0;34m==\u001b[0m\u001b[0;34m'-'\u001b[0m\u001b[0;34m:\u001b[0m\u001b[0;34m\u001b[0m\u001b[0m\n",
      "\u001b[0;31mNameError\u001b[0m: name 'vysledek' is not defined"
     ]
    }
   ],
   "source": [
    "def piskvorky1d():\n",
    "    symbol_hrac = input('Chces o nebo x?')\n",
    "    pole= '-' * 20\n",
    "    print(pole)\n",
    "    vysledek == '-'\n",
    "\n",
    "    while vysledek =='-':\n",
    "        tah_hrace(pole,symbol_hrac)\n",
    "        print(pole)\n",
    "        if symbol_hrac == 'o':\n",
    "            symbol_pocitac == 'x'\n",
    "        else:\n",
    "            symbol_pocitac == 'o'\n",
    "        tah_pocitace(pole,symbol_pocitac)\n",
    "        print(pole)\n",
    "        vysledek == vyhodnot(pole)\n",
    "        print(vysledek)\n",
    "\n",
    "piskvorky1d()"
   ]
  },
  {
   "cell_type": "code",
   "execution_count": 7,
   "metadata": {},
   "outputs": [
    {
     "name": "stdout",
     "output_type": "stream",
     "text": [
      "Chces o nebo x?x\n",
      "--------------------\n"
     ]
    },
    {
     "ename": "NameError",
     "evalue": "name 'tah_hrace' is not defined",
     "output_type": "error",
     "traceback": [
      "\u001b[0;31m---------------------------------------------------------------------------\u001b[0m",
      "\u001b[0;31mNameError\u001b[0m                                 Traceback (most recent call last)",
      "\u001b[0;32m<ipython-input-7-5b37f45dac8a>\u001b[0m in \u001b[0;36m<module>\u001b[0;34m()\u001b[0m\n\u001b[1;32m     17\u001b[0m         \u001b[0mprint\u001b[0m\u001b[0;34m(\u001b[0m\u001b[0mvysledek\u001b[0m\u001b[0;34m)\u001b[0m\u001b[0;34m\u001b[0m\u001b[0m\n\u001b[1;32m     18\u001b[0m \u001b[0;34m\u001b[0m\u001b[0m\n\u001b[0;32m---> 19\u001b[0;31m \u001b[0mpiskvorky1d\u001b[0m\u001b[0;34m(\u001b[0m\u001b[0;34m)\u001b[0m\u001b[0;34m\u001b[0m\u001b[0m\n\u001b[0m",
      "\u001b[0;32m<ipython-input-7-5b37f45dac8a>\u001b[0m in \u001b[0;36mpiskvorky1d\u001b[0;34m()\u001b[0m\n\u001b[1;32m      6\u001b[0m \u001b[0;34m\u001b[0m\u001b[0m\n\u001b[1;32m      7\u001b[0m     \u001b[0;32mwhile\u001b[0m \u001b[0mvysledek\u001b[0m \u001b[0;34m==\u001b[0m\u001b[0;34m'-'\u001b[0m\u001b[0;34m:\u001b[0m\u001b[0;34m\u001b[0m\u001b[0m\n\u001b[0;32m----> 8\u001b[0;31m         \u001b[0mtah_hrace\u001b[0m\u001b[0;34m(\u001b[0m\u001b[0mpole\u001b[0m\u001b[0;34m,\u001b[0m\u001b[0msymbol_hrac\u001b[0m\u001b[0;34m)\u001b[0m\u001b[0;34m\u001b[0m\u001b[0m\n\u001b[0m\u001b[1;32m      9\u001b[0m         \u001b[0mprint\u001b[0m\u001b[0;34m(\u001b[0m\u001b[0mpole\u001b[0m\u001b[0;34m)\u001b[0m\u001b[0;34m\u001b[0m\u001b[0m\n\u001b[1;32m     10\u001b[0m         \u001b[0;32mif\u001b[0m \u001b[0msymbol_hrac\u001b[0m \u001b[0;34m==\u001b[0m \u001b[0;34m'o'\u001b[0m\u001b[0;34m:\u001b[0m\u001b[0;34m\u001b[0m\u001b[0m\n",
      "\u001b[0;31mNameError\u001b[0m: name 'tah_hrace' is not defined"
     ]
    }
   ],
   "source": [
    "def piskvorky1d():\n",
    "    symbol_hrac = input('Chces o nebo x?')\n",
    "    pole= '-' * 20\n",
    "    print(pole)\n",
    "    vysledek = '-'\n",
    "\n",
    "    while vysledek =='-':\n",
    "        tah_hrace(pole,symbol_hrac)\n",
    "        print(pole)\n",
    "        if symbol_hrac == 'o':\n",
    "            symbol_pocitac == 'x'\n",
    "        else:\n",
    "            symbol_pocitac == 'o'\n",
    "        tah_pocitace(pole,symbol_pocitac)\n",
    "        print(pole)\n",
    "        vysledek == vyhodnot(pole)\n",
    "        print(vysledek)\n",
    "\n",
    "piskvorky1d()"
   ]
  },
  {
   "cell_type": "markdown",
   "metadata": {},
   "source": [
    "## Neuložené soubory"
   ]
  },
  {
   "cell_type": "code",
   "execution_count": 8,
   "metadata": {},
   "outputs": [
    {
     "ename": "SyntaxError",
     "evalue": "invalid syntax (<ipython-input-8-cfc7a36d4911>, line 3)",
     "output_type": "error",
     "traceback": [
      "\u001b[0;36m  File \u001b[0;32m\"<ipython-input-8-cfc7a36d4911>\"\u001b[0;36m, line \u001b[0;32m3\u001b[0m\n\u001b[0;31m    if pole =\u001b[0m\n\u001b[0m            ^\u001b[0m\n\u001b[0;31mSyntaxError\u001b[0m\u001b[0;31m:\u001b[0m invalid syntax\n"
     ]
    }
   ],
   "source": [
    "def vyhodnot(pole):\n",
    "    while True:\n",
    "        if pole ="
   ]
  },
  {
   "cell_type": "markdown",
   "metadata": {},
   "source": [
    "Odevzdaný neuložený soubor mimo jiné znamená, že sis to po sobě ani nezkusila před odezvdáním spustit!"
   ]
  },
  {
   "cell_type": "markdown",
   "metadata": {},
   "source": [
    "## Plagiáty?"
   ]
  },
  {
   "cell_type": "markdown",
   "metadata": {},
   "source": [
    "![bart](bart-chalkboard.gif)"
   ]
  },
  {
   "cell_type": "markdown",
   "metadata": {},
   "source": [
    "## Obecné rady a doporučení"
   ]
  },
  {
   "cell_type": "markdown",
   "metadata": {},
   "source": [
    "- Pochvala za dokumentační řetězce\n",
    "- Pochvala za metody `.lower()` a `.strip()` u porovnávání řetězců"
   ]
  }
 ],
 "metadata": {
  "kernelspec": {
   "display_name": "Python 3",
   "language": "python",
   "name": "python3"
  },
  "language_info": {
   "codemirror_mode": {
    "name": "ipython",
    "version": 3
   },
   "file_extension": ".py",
   "mimetype": "text/x-python",
   "name": "python",
   "nbconvert_exporter": "python",
   "pygments_lexer": "ipython3",
   "version": "3.6.6"
  }
 },
 "nbformat": 4,
 "nbformat_minor": 2
}
