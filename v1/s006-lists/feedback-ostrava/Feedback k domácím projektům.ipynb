{
 "cells": [
  {
   "cell_type": "markdown",
   "metadata": {
    "slideshow": {
     "slide_type": "slide"
    }
   },
   "source": [
    "## List comprehensions"
   ]
  },
  {
   "cell_type": "markdown",
   "metadata": {},
   "source": [
    "Jedná se o zápis s Pythonu s jehož pomocí se dají jednoduše vytvářet seznamy."
   ]
  },
  {
   "cell_type": "code",
   "execution_count": 1,
   "metadata": {
    "slideshow": {
     "slide_type": "fragment"
    }
   },
   "outputs": [
    {
     "data": {
      "text/plain": [
       "[0, 1, 2, 3, 4, 5, 6, 7, 8, 9]"
      ]
     },
     "execution_count": 1,
     "metadata": {},
     "output_type": "execute_result"
    }
   ],
   "source": [
    "[x for x in range(10)]"
   ]
  },
  {
   "cell_type": "code",
   "execution_count": 2,
   "metadata": {
    "slideshow": {
     "slide_type": "fragment"
    }
   },
   "outputs": [
    {
     "data": {
      "text/plain": [
       "[0, 1, 4, 9, 16, 25, 36, 49, 64, 81]"
      ]
     },
     "execution_count": 2,
     "metadata": {},
     "output_type": "execute_result"
    }
   ],
   "source": [
    "[x**2 for x in range(10)]"
   ]
  },
  {
   "cell_type": "code",
   "execution_count": 3,
   "metadata": {
    "slideshow": {
     "slide_type": "fragment"
    }
   },
   "outputs": [
    {
     "data": {
      "text/plain": [
       "[0, 4, 16, 36, 64]"
      ]
     },
     "execution_count": 3,
     "metadata": {},
     "output_type": "execute_result"
    }
   ],
   "source": [
    "[x**2 for x in range(10) if x % 2 == 0]"
   ]
  },
  {
   "cell_type": "code",
   "execution_count": 4,
   "metadata": {
    "slideshow": {
     "slide_type": "slide"
    }
   },
   "outputs": [
    {
     "data": {
      "text/plain": [
       "[(0, 0),\n",
       " (1, 1),\n",
       " (2, 4),\n",
       " (3, 9),\n",
       " (4, 16),\n",
       " (5, 25),\n",
       " (6, 36),\n",
       " (7, 49),\n",
       " (8, 64),\n",
       " (9, 81)]"
      ]
     },
     "execution_count": 4,
     "metadata": {},
     "output_type": "execute_result"
    }
   ],
   "source": [
    "[(x, x**2) for x in range(10)]"
   ]
  },
  {
   "cell_type": "code",
   "execution_count": 5,
   "metadata": {
    "slideshow": {
     "slide_type": "slide"
    }
   },
   "outputs": [
    {
     "data": {
      "text/plain": [
       "[[0, 1, 2],\n",
       " [0, 1, 2],\n",
       " [0, 1, 2],\n",
       " [0, 1, 2],\n",
       " [0, 1, 2],\n",
       " [0, 1, 2],\n",
       " [0, 1, 2],\n",
       " [0, 1, 2],\n",
       " [0, 1, 2],\n",
       " [0, 1, 2]]"
      ]
     },
     "execution_count": 5,
     "metadata": {},
     "output_type": "execute_result"
    }
   ],
   "source": [
    "[[y for y in range(3)] for x in range(10)]"
   ]
  },
  {
   "cell_type": "markdown",
   "metadata": {
    "slideshow": {
     "slide_type": "slide"
    }
   },
   "source": [
    "## Tabulka s hracím polem"
   ]
  },
  {
   "cell_type": "markdown",
   "metadata": {
    "slideshow": {
     "slide_type": "slide"
    }
   },
   "source": [
    "### Řešení 1"
   ]
  },
  {
   "cell_type": "code",
   "execution_count": null,
   "metadata": {
    "collapsed": true
   },
   "outputs": [],
   "source": [
    "def vytvor_tabulku():\n",
    "    zap_tabulka = []\n",
    "\n",
    "    for rada_x in '.', '.', '.', '.', '.', '.', '.', '.', '.', '.':\n",
    "        radek = []\n",
    "        for rada_y in '.', '.', '.', '.', '.', '.', '.', '.', '.', '.':\n",
    "            radek.append(rada_y)\n",
    "        zap_tabulka.append(radek)\n",
    "    return zap_tabulka"
   ]
  },
  {
   "cell_type": "markdown",
   "metadata": {
    "slideshow": {
     "slide_type": "slide"
    }
   },
   "source": [
    "### Řešení 2"
   ]
  },
  {
   "cell_type": "code",
   "execution_count": null,
   "metadata": {
    "collapsed": true
   },
   "outputs": [],
   "source": [
    "def vytvor_prazdne_herni_pole(r,s):\n",
    "    seznam_radku = []\n",
    "    for a in range(r):\n",
    "        radek = [\".\"]\n",
    "        for b in range(s-1):\n",
    "            radek.append(\".\")\n",
    "        seznam_radku.append(radek)\n",
    "    return seznam_radku"
   ]
  },
  {
   "cell_type": "markdown",
   "metadata": {
    "slideshow": {
     "slide_type": "slide"
    }
   },
   "source": [
    "### Správné řešení"
   ]
  },
  {
   "cell_type": "code",
   "execution_count": null,
   "metadata": {
    "collapsed": true
   },
   "outputs": [],
   "source": [
    "def vytvor_tabulku(velikost):\n",
    "    seznam_radku = []\n",
    "    for a in range(velikost):\n",
    "        radek = []\n",
    "        for b in range(velikost):\n",
    "            radek.append(\".\")\n",
    "        seznam_radku.append(radek)\n",
    "    return seznam_radku"
   ]
  },
  {
   "cell_type": "markdown",
   "metadata": {
    "slideshow": {
     "slide_type": "slide"
    }
   },
   "source": [
    "### Krátké řešení (s pomocí list comprehensions)"
   ]
  },
  {
   "cell_type": "code",
   "execution_count": null,
   "metadata": {
    "collapsed": true
   },
   "outputs": [],
   "source": [
    "def vytvor_tabulku(velikost):\n",
    "    tabulka = []\n",
    "    for x in range(velikost):\n",
    "        radek = ['.' for x in range(velikost)]\n",
    "        tabulka.append(radek)\n",
    "    return tabulka"
   ]
  },
  {
   "cell_type": "markdown",
   "metadata": {
    "slideshow": {
     "slide_type": "slide"
    }
   },
   "source": [
    "### Nejkratší řešení (je nejlepší?)"
   ]
  },
  {
   "cell_type": "code",
   "execution_count": 5,
   "metadata": {},
   "outputs": [],
   "source": [
    "def vytvor_tabulku(velikost):\n",
    "    return [list('.' * velikost) for x in range(velikost)]"
   ]
  },
  {
   "cell_type": "code",
   "execution_count": 4,
   "metadata": {},
   "outputs": [],
   "source": [
    "def vytvor_tabulku(velikost):\n",
    "    return [['.'] * velikost] * velikost"
   ]
  },
  {
   "cell_type": "markdown",
   "metadata": {},
   "source": [
    "Je vytvoření kompletní tabulky se všemi hracími políčky vážně potřeba?"
   ]
  },
  {
   "cell_type": "markdown",
   "metadata": {
    "slideshow": {
     "slide_type": "slide"
    }
   },
   "source": [
    "# Zvířátka"
   ]
  },
  {
   "cell_type": "markdown",
   "metadata": {},
   "source": [
    "Najdi chyby, nejasnosti či nepřesnosti v tomto kódu:"
   ]
  },
  {
   "cell_type": "code",
   "execution_count": null,
   "metadata": {},
   "outputs": [],
   "source": [
    "zvirata = [ \"pes\", \"kočka\", \"králík\", \"had\", \"ježek\"]\n",
    "znak = \"k\"\n",
    "\n",
    "def pismeno(jmeno):\n",
    "    for i in range(5):\n",
    "        if znak in jmeno[i][0]:\n",
    "            print(jmeno[i])\n",
    "    return\n",
    "\n",
    "pismeno(zvirata)"
   ]
  },
  {
   "cell_type": "markdown",
   "metadata": {
    "slideshow": {
     "slide_type": "slide"
    }
   },
   "source": [
    "Takto by to mohlo vypadat přehlednější a pochopitelnější"
   ]
  },
  {
   "cell_type": "code",
   "execution_count": null,
   "metadata": {},
   "outputs": [],
   "source": [
    "zvirata = [ \"pes\", \"kočka\", \"králík\", \"had\", \"ježek\"]\n",
    "\n",
    "def s_prvnim_pismenem(seznam_zvirat, pismeno):\n",
    "    for zvire in seznam_zvirat:\n",
    "        if zvire.startswith(pismeno):\n",
    "            print(zvire)\n",
    "\n",
    "s_prvnim_pismenem(zvirata, 'k')"
   ]
  },
  {
   "cell_type": "markdown",
   "metadata": {
    "slideshow": {
     "slide_type": "slide"
    }
   },
   "source": [
    "Další podobná funkce:"
   ]
  },
  {
   "cell_type": "code",
   "execution_count": null,
   "metadata": {},
   "outputs": [],
   "source": [
    "def kratke(jmeno = zvirata):\n",
    "    for i in range(len(jmeno)):\n",
    "        if len(jmeno[i]) < 5:\n",
    "            print(jmeno[i])\n",
    "        else:\n",
    "            print(end = \"\")\n",
    "    return jmeno\n",
    "\n",
    "kratke(zvirata)"
   ]
  },
  {
   "cell_type": "markdown",
   "metadata": {
    "slideshow": {
     "slide_type": "slide"
    }
   },
   "source": [
    "A její přehlednější varianta:"
   ]
  },
  {
   "cell_type": "code",
   "execution_count": null,
   "metadata": {},
   "outputs": [],
   "source": [
    "def kratke(seznam_zvirat):\n",
    "    for jmeno in seznam_zvirat:\n",
    "        if len(jmeno) < 5:\n",
    "            print(jmeno)\n",
    "\n",
    "kratke(zvirata)"
   ]
  },
  {
   "cell_type": "markdown",
   "metadata": {
    "slideshow": {
     "slide_type": "slide"
    }
   },
   "source": [
    "Je možné tuto funkci zkrátit a zjednodušit?"
   ]
  },
  {
   "cell_type": "code",
   "execution_count": null,
   "metadata": {},
   "outputs": [],
   "source": [
    "def overeni(seznam):\n",
    "    \"ověří, zda je zadané slovo v seznamu a vrátí True/False\"\n",
    "    otazka = input(\"Zadej název zvířete, jež chceš ověřit: \")\n",
    "    if otazka in seznam:\n",
    "        return True\n",
    "    else:\n",
    "        return False"
   ]
  },
  {
   "cell_type": "markdown",
   "metadata": {
    "slideshow": {
     "slide_type": "slide"
    }
   },
   "source": [
    "Ano, je to možné"
   ]
  },
  {
   "cell_type": "code",
   "execution_count": null,
   "metadata": {},
   "outputs": [],
   "source": [
    "def overeni(seznam):\n",
    "    \"ověří, zda je zadané slovo v seznamu a vrátí True/False\"\n",
    "    otazka = input(\"Zadej název zvířete, jež chceš ověřit: \")\n",
    "    return otazka in seznam"
   ]
  },
  {
   "cell_type": "markdown",
   "metadata": {},
   "source": [
    "## Had"
   ]
  },
  {
   "cell_type": "code",
   "execution_count": null,
   "metadata": {},
   "outputs": [],
   "source": [
    "from random import randrange\n",
    "\n",
    "\n",
    "def velikost_hraciho_pole():\n",
    "    while True:\n",
    "        odpoved = input('Zadej velikost pole pro hada: ')\n",
    "        try:\n",
    "            velikost = int(odpoved)\n",
    "        except ValueError:\n",
    "            print('Velikost musí být celé číslo')\n",
    "        else:\n",
    "            if velikost < 5:\n",
    "                print('Pole musí být rozumně veliké')\n",
    "            break\n",
    "\n",
    "    return velikost\n",
    "\n",
    "\n",
    "def vykresli_mapu(velikost, had, ovoce):\n",
    "    for x in range(velikost):\n",
    "        for y in range(velikost):\n",
    "            if (x, y) in had:\n",
    "                print('X', end=' ')\n",
    "            elif (x, y) in ovoce:\n",
    "                print('?', end=' ')\n",
    "            else:\n",
    "                print('.', end=' ')\n",
    "        print()\n",
    "\n",
    "\n",
    "def posun(velikost, had, ovoce):\n",
    "    while True:\n",
    "        smer = input('Zadej smer posunu [s, j, v, z]: ')\n",
    "        smer = smer.lower().strip()\n",
    "        if smer not in ('s', 'j', 'v', 'z'):\n",
    "            print('Nekorektni smer!')\n",
    "        else:\n",
    "            break\n",
    "\n",
    "    hlava = had[-1]\n",
    "    x, y = hlava\n",
    "    if smer == 's':\n",
    "        nova_hlava = x-1, y\n",
    "    elif smer == 'j':\n",
    "        nova_hlava = x+1, y\n",
    "    elif smer == 'v':\n",
    "        nova_hlava = x, y+1\n",
    "    elif smer == 'z':\n",
    "        nova_hlava = x, y-1\n",
    "\n",
    "    if nova_hlava in had:\n",
    "        print('Narazil si sam do sebe')\n",
    "        return False\n",
    "\n",
    "    x, y = nova_hlava\n",
    "\n",
    "    if x < 0 or x > velikost-1 or y < 0 or y > velikost-1:\n",
    "        print('Vyjel si mimo herni pole')\n",
    "        return False\n",
    "\n",
    "    if nova_hlava in ovoce:\n",
    "        ovoce.remove(nova_hlava)\n",
    "    else:\n",
    "        del had[0]\n",
    "\n",
    "    had.append(nova_hlava)\n",
    "    return True\n",
    "\n",
    "\n",
    "def pridej_ovoce(velikost, had, ovoce):\n",
    "    ovoce.append((randrange(0, velikost), randrange(0, velikost)))\n",
    "    while ovoce[-1] in had:\n",
    "        del ovoce[-1]\n",
    "        ovoce.append((randrange(0, velikost), randrange(0, velikost)))\n",
    "\n",
    "\n",
    "velikost = velikost_hraciho_pole()\n",
    "\n",
    "had = [(0, 0), (0, 1), (0, 2)]\n",
    "ovoce = []\n",
    "pridej_ovoce(velikost, had, ovoce)\n",
    "\n",
    "vykresli_mapu(velikost, had, ovoce)\n",
    "\n",
    "while posun(velikost, had, ovoce):\n",
    "    vykresli_mapu(velikost, had, ovoce)\n",
    "    if not ovoce:\n",
    "        pridej_ovoce(velikost, had, ovoce)"
   ]
  },
  {
   "cell_type": "markdown",
   "metadata": {
    "slideshow": {
     "slide_type": "slide"
    }
   },
   "source": [
    "## Rubber duck problem solving"
   ]
  },
  {
   "cell_type": "markdown",
   "metadata": {},
   "source": [
    "![Gumová kačenka](https://raw.githubusercontent.com/RubberDuckDebugging/rubberduckdebugging.github.io/master/images/rubberducky.png)"
   ]
  },
  {
   "cell_type": "markdown",
   "metadata": {
    "slideshow": {
     "slide_type": "fragment"
    }
   },
   "source": [
    "Jde o techniku řešení problému, při které se svůj problém snažíte vysvětlit někomu (nebo v případě gumové kachny něčemu), kdo programování nemusí vůbec rozumět. Když řešenou problematiku a vaše současné řešení popisujete nahlas, uvědomíte si, co váš program aktuálně dělá a co by dělat měl, což zpravidla vede k vyřešení problému."
   ]
  },
  {
   "cell_type": "markdown",
   "metadata": {
    "slideshow": {
     "slide_type": "slide"
    }
   },
   "source": [
    "## Obecné rady a poznatky"
   ]
  },
  {
   "cell_type": "markdown",
   "metadata": {},
   "source": [
    "## Snažte se!!!"
   ]
  }
 ],
 "metadata": {
  "kernelspec": {
   "display_name": "Python 3",
   "language": "python",
   "name": "python3"
  },
  "language_info": {
   "codemirror_mode": {
    "name": "ipython",
    "version": 3
   },
   "file_extension": ".py",
   "mimetype": "text/x-python",
   "name": "python",
   "nbconvert_exporter": "python",
   "pygments_lexer": "ipython3",
   "version": "3.6.6"
  }
 },
 "nbformat": 4,
 "nbformat_minor": 2
}
