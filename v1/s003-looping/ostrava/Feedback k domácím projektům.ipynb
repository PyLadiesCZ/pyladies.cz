{
 "cells": [
  {
   "cell_type": "markdown",
   "metadata": {
    "slideshow": {
     "slide_type": "slide"
    }
   },
   "source": [
    "# Feedback k domácím projektům"
   ]
  },
  {
   "cell_type": "markdown",
   "metadata": {
    "slideshow": {
     "slide_type": "slide"
    }
   },
   "source": [
    "## Jde tento kód napsat jednodušeji, aby ale dělal úplně totéž?"
   ]
  },
  {
   "cell_type": "code",
   "execution_count": null,
   "metadata": {
    "slideshow": {
     "slide_type": "-"
    }
   },
   "outputs": [],
   "source": [
    "for radek in range(4):\n",
    "  radek += 1\n",
    "  for value in range(radek):\n",
    "    print('X', end=' ')\n",
    "  print('')"
   ]
  },
  {
   "cell_type": "markdown",
   "metadata": {
    "slideshow": {
     "slide_type": "fragment"
    }
   },
   "source": [
    "## Ano, lze :-)"
   ]
  },
  {
   "cell_type": "code",
   "execution_count": null,
   "metadata": {
    "slideshow": {
     "slide_type": "-"
    }
   },
   "outputs": [],
   "source": [
    "for radek in range(1, 5):\n",
    "  print('X ' * radek)"
   ]
  },
  {
   "cell_type": "markdown",
   "metadata": {
    "slideshow": {
     "slide_type": "slide"
    }
   },
   "source": [
    "## A co tento?"
   ]
  },
  {
   "cell_type": "code",
   "execution_count": null,
   "metadata": {
    "slideshow": {
     "slide_type": "-"
    }
   },
   "outputs": [],
   "source": [
    "promenna = \"X\"\n",
    "\n",
    "for j in range(5):\n",
    "    for i in promenna:\n",
    "        print(i, i, i, i, i)"
   ]
  },
  {
   "cell_type": "markdown",
   "metadata": {
    "slideshow": {
     "slide_type": "fragment"
    }
   },
   "source": [
    "## Ten taky"
   ]
  },
  {
   "cell_type": "code",
   "execution_count": null,
   "metadata": {
    "slideshow": {
     "slide_type": "-"
    }
   },
   "outputs": [],
   "source": [
    "for j in range(5):\n",
    "    print('X ' * 5)"
   ]
  },
  {
   "cell_type": "markdown",
   "metadata": {
    "slideshow": {
     "slide_type": "slide"
    }
   },
   "source": [
    "## Nejmenší číslo"
   ]
  },
  {
   "cell_type": "markdown",
   "metadata": {
    "slideshow": {
     "slide_type": "fragment"
    }
   },
   "source": [
    "### Upovídané řešení z domácích projektů"
   ]
  },
  {
   "cell_type": "code",
   "execution_count": null,
   "metadata": {
    "slideshow": {
     "slide_type": "-"
    }
   },
   "outputs": [],
   "source": [
    "prve = input('Zadej cislo: ')\n",
    "druhe = input('Zadej cislo: ')\n",
    "tretie = input('Zadej cislo: ')\n",
    "stvrte = input('Zadej cislo: ')\n",
    "piate = input('Zadej cislo: ')\n",
    "\n",
    "if prve<druhe and prve<tretie and prve<stvrte and prve<piate:                    \n",
    "    print(prve)                                                                  \n",
    "if druhe<prve and druhe<tretie and druhe<stvrte and druhe<piate:                 \n",
    "    print(druhe)                                                                 \n",
    "if tretie<prve and tretie<druhe and tretie<stvrte and tretie<piate:              \n",
    "    print(tretie)                                                                \n",
    "if stvrte<prve and stvrte<druhe and stvrte<tretie and stvrte<piate:              \n",
    "    print(stvrte)                                                                \n",
    "if piate<prve and piate<druhe and piate<tretie and piate<stvrte:                 \n",
    "    print(piate)"
   ]
  },
  {
   "cell_type": "markdown",
   "metadata": {
    "slideshow": {
     "slide_type": "slide"
    }
   },
   "source": [
    "### Lepší, ale pořád ne optimální"
   ]
  },
  {
   "cell_type": "code",
   "execution_count": null,
   "metadata": {
    "slideshow": {
     "slide_type": "-"
    }
   },
   "outputs": [],
   "source": [
    "a = float(input('Prvni cislo: '))\n",
    "b = float(input('Druhe cislo: '))\n",
    "c = float(input('Treti cislo: '))\n",
    "d = float(input('Ctrvte cislo: '))\n",
    "e = float(input('Pate cislo: '))\n",
    "\n",
    "\n",
    "m = a\n",
    "\n",
    "for cislo in a, b, c, d, e:\n",
    "  if cislo < m:\n",
    "      m=cislo\n",
    "print(m)"
   ]
  },
  {
   "cell_type": "markdown",
   "metadata": {
    "slideshow": {
     "slide_type": "slide"
    }
   },
   "source": [
    "### Kratší a méně náročné řešení"
   ]
  },
  {
   "cell_type": "code",
   "execution_count": null,
   "metadata": {
    "slideshow": {
     "slide_type": "-"
    }
   },
   "outputs": [],
   "source": [
    "minimum = 0\n",
    "for x in range(5):\n",
    "    cislo = int(input('Zadej cislo: '))\n",
    "    \n",
    "    if minimum == 0 or cislo < minimum:\n",
    "        minimum = cislo\n",
    "\n",
    "print('Nejmensi zadane cislo je', minimum)"
   ]
  },
  {
   "cell_type": "markdown",
   "metadata": {
    "slideshow": {
     "slide_type": "slide"
    }
   },
   "source": [
    "## N-úhelníky v řadě"
   ]
  },
  {
   "cell_type": "markdown",
   "metadata": {
    "slideshow": {
     "slide_type": "slide"
    }
   },
   "source": [
    "### Upovídané řešení z domácích projektů"
   ]
  },
  {
   "cell_type": "code",
   "execution_count": null,
   "metadata": {
    "slideshow": {
     "slide_type": "-"
    }
   },
   "outputs": [],
   "source": [
    "from turtle import forward, shape, left, right, exitonclick, penup, pendown, back\n",
    "\n",
    "# pětiúhelník:\n",
    "vnitrniuhel = 180*(1-(2/5))\n",
    "vnejsiuhel= 180-vnitrniuhel\n",
    "for x in range (5):\n",
    "    forward(200/5)\n",
    "    left(vnejsiuhel)\n",
    "penup()\n",
    "forward(100)\n",
    "pendown()\n",
    "\n",
    "# šestiúhelník:\n",
    "vnitrniuhel = 180*(1-(2/6))\n",
    "vnejsiuhel= 180-vnitrniuhel\n",
    "for x in range (6):\n",
    "    forward(200/6)\n",
    "    left(vnejsiuhel)\n",
    "penup()\n",
    "forward(100)\n",
    "pendown()\n",
    "\n",
    "# sedmiúhelník:\n",
    "vnitrniuhel = 180*(1-(2/7))\n",
    "vnejsiuhel= 180-vnitrniuhel\n",
    "for x in range (7):\n",
    "    forward(200/7)\n",
    "    left(vnejsiuhel)\n",
    "penup()\n",
    "forward(100)\n",
    "pendown()\n",
    "\n",
    "# osmiúhelník:\n",
    "vnitrniuhel = 180*(1-(2/8))\n",
    "vnejsiuhel= 180-vnitrniuhel\n",
    "for x in range (8):\n",
    "    forward(200/8)\n",
    "    left(vnejsiuhel)\n",
    "exitonclick()"
   ]
  },
  {
   "cell_type": "markdown",
   "metadata": {
    "slideshow": {
     "slide_type": "slide"
    }
   },
   "source": [
    "### Kratší řešení s využitím cyklu v dalším cyklu"
   ]
  },
  {
   "cell_type": "code",
   "execution_count": null,
   "metadata": {
    "slideshow": {
     "slide_type": "-"
    }
   },
   "outputs": [],
   "source": [
    "from turtle import forward, shape, left, right, exitonclick, penup, pendown, back\n",
    "\n",
    "for n in range(5,9):\n",
    "    vnitrniuhel = 180*(1-(2/n))\n",
    "    vnejsiuhel= 180-vnitrniuhel\n",
    "    for x in range (n):\n",
    "        forward(200/n)\n",
    "        left(vnejsiuhel)\n",
    "    penup()\n",
    "    forward(100)\n",
    "    pendown()\n",
    "\n",
    "exitonclick()"
   ]
  },
  {
   "cell_type": "markdown",
   "metadata": {
    "slideshow": {
     "slide_type": "slide"
    }
   },
   "source": [
    "## Obecné připomínky a rady"
   ]
  },
  {
   "cell_type": "markdown",
   "metadata": {
    "slideshow": {
     "slide_type": "-"
    }
   },
   "source": [
    "* Importy provádíme vždy na prvních řádcích programu a v rámci programu pouze jednou.\n",
    "* Snažíme se nepoužívat importy s hvězdičkou.\n",
    "* Neimportujeme nic co pak v programu nepoužijeme.\n",
    "* Kód nemusí být elegantní, hlavně když funguje (alespoň pro začátek).\n",
    "* Komentáře je lepší a jednodušší psát nad nebo pod kód místo vedle něj. Obzvlášť pokud má komentovaná část kódu několik řádků.\n",
    "* Pochvala za funkce.\n",
    "* Když odevzdáváte soubor s funkcemi, je třeba je v rámci souboru také zavolat, jinak se po jeho spuštění nic nestane.\n",
    "* Martin děkuje všem, kteří zrychlili želvičku."
   ]
  },
  {
   "cell_type": "markdown",
   "metadata": {
    "slideshow": {
     "slide_type": "slide"
    }
   },
   "source": [
    "## Děkujeme za PyBeer"
   ]
  },
  {
   "cell_type": "code",
   "execution_count": 1,
   "metadata": {},
   "outputs": [],
   "source": [
    "#            #####   ##   #######\n",
    "#         ############################\n",
    "#        #############################\n",
    "#      #################################\n",
    "#       |                             |___________\n",
    "#       |    (   )   (   )   (   )    |________  /\n",
    "#       |    )   (   )   (   )   (    |       / /\n",
    "#       |    (   )   (   )   (   )    |      / /\n",
    "#       |    )   (   )   (   )   (    |     / /\n",
    "#       |    (   )   (   )   (   )    |____/ /\n",
    "#       |    )   (   )   (   )   (    |_____/\n",
    "#       |    (___)   (___)   (___)    |\n",
    "#       |                             |\n",
    "#       |_____________________________|"
   ]
  }
 ],
 "metadata": {
  "celltoolbar": "Slideshow",
  "kernelspec": {
   "display_name": "Python 3",
   "language": "python",
   "name": "python3"
  },
  "language_info": {
   "codemirror_mode": {
    "name": "ipython",
    "version": 3
   },
   "file_extension": ".py",
   "mimetype": "text/x-python",
   "name": "python",
   "nbconvert_exporter": "python",
   "pygments_lexer": "ipython3",
   "version": "3.6.6"
  }
 },
 "nbformat": 4,
 "nbformat_minor": 2
}
