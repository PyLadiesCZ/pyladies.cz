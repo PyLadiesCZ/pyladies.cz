{
 "cells": [
  {
   "cell_type": "markdown",
   "metadata": {},
   "source": [
    "# Úkoly k procvičování"
   ]
  },
  {
   "cell_type": "markdown",
   "metadata": {},
   "source": [
    "## Suma čísel dělitelných trojkou nebo pětkou"
   ]
  },
  {
   "cell_type": "markdown",
   "metadata": {},
   "source": [
    "Vezmeme li čísla menší než 10 dělitelná beze zbytku trojkou nebo pětkou, dostaneme 3, 5, 6 a 9. Jejich součet je 23. Jaký je součet čísel dělitelných beze zbytku trojkou nebo pětkou v intervalu od 0 do 100?"
   ]
  },
  {
   "cell_type": "markdown",
   "metadata": {},
   "source": [
    "## Prvočísla"
   ]
  },
  {
   "cell_type": "markdown",
   "metadata": {},
   "source": [
    "Na seznamu prvočísel (2, 3, 5, 7, 11, a 13) je vidět, že šesté prvočíslo je 13. Jaké je sté prvočíslo? A které je na pozici s číslem deset tisíc?"
   ]
  },
  {
   "cell_type": "markdown",
   "metadata": {},
   "source": [
    "## Dělitelnost čísel"
   ]
  },
  {
   "cell_type": "markdown",
   "metadata": {},
   "source": [
    "2520 je nejmenší číslo, které je beze zbytku dělitelné všemi čísly od 1 po 10. Najděte nejmenší kladné celé číslo, které je beze zbytku dělitelné všemi císly od 1 do 20."
   ]
  },
  {
   "cell_type": "markdown",
   "metadata": {},
   "source": [
    "## Prvočíselná dvojčata"
   ]
  },
  {
   "cell_type": "markdown",
   "metadata": {},
   "source": [
    "Prvočíselné dvojče je taková dvojice čísel, kde obě čísla jsou prvočísla a jedno je o dvě větší než to první. Nejmenší prvočíselné dvojče je 3 a 5. Najdi deset prvních prvočíselných dvojčat?"
   ]
  },
  {
   "cell_type": "markdown",
   "metadata": {},
   "source": [
    "# Výsledky"
   ]
  },
  {
   "cell_type": "markdown",
   "metadata": {},
   "source": [
    "* Suma čísel od 0 do 100 dělitelných trojkou nebo pětkou je 2318\n",
    "* Sté prvočíslo je 541\n",
    "* Desetitisícé prvočíslo je 104729\n",
    "* Nejmenší číslo dělitelné beze zbytku všemi čísly od 1 do 20 je 232792560\n",
    "* Deset prvních prvočíselných dvojčat: 3-5, 5-7, 11-13, 17-19, 29-31, 41-43, 59-61, 71-73, 101-103, 107-109"
   ]
  }
 ],
 "metadata": {
  "kernelspec": {
   "display_name": "Python 3",
   "language": "python",
   "name": "python3"
  },
  "language_info": {
   "codemirror_mode": {
    "name": "ipython",
    "version": 3
   },
   "file_extension": ".py",
   "mimetype": "text/x-python",
   "name": "python",
   "nbconvert_exporter": "python",
   "pygments_lexer": "ipython3",
   "version": "3.6.6"
  }
 },
 "nbformat": 4,
 "nbformat_minor": 2
}
