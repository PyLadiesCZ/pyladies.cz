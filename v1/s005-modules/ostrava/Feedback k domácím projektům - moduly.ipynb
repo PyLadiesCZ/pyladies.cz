{
 "cells": [
  {
   "cell_type": "markdown",
   "metadata": {},
   "source": [
    "## Kód k vylepšení"
   ]
  },
  {
   "cell_type": "code",
   "execution_count": null,
   "metadata": {},
   "outputs": [],
   "source": [
    "import ai\n",
    "import utils\n",
    "from random import randrange\n",
    "def vyhodnot(pole):\n",
    "    # Funkce vezme hrací pole a vrátí výsledek\n",
    "    # na základě aktuálního stavu hry\n",
    "    if \"xxx\" in pole: #Vyhrál hráč s křížky\n",
    "        return \"x\"\n",
    "    elif \"ooo\" in pole: #Vyhrál hráč s kolečky.\n",
    "        return \"o\"\n",
    "    elif \"-\" not in pole: #Nikdo nevyhrál\n",
    "        return \"!\"\n",
    "    else: #Hra ještě neskončila.\n",
    "        return \"-\"\n",
    "\n",
    "def tah_pocitace(pole):\n",
    "    \"Počítač vybere pozici, na kterou hrát, a vrátí herní pole se zaznamenaným tahem počítače\"\n",
    "    delka=len(pole)\n",
    "    while True:\n",
    "        pozice=randrange(1,delka-1)\n",
    "        if \"-\" in pole[pozice]:\n",
    "            if \"o\" in pole[pozice+1] or \"o\" in pole[pozice-1] or \"x\" in pole[pozice+1] or \"x\" in pole[pozice-1]: #počítač hraje strategicky\n",
    "                return pozice"
   ]
  },
  {
   "cell_type": "markdown",
   "metadata": {},
   "source": [
    "## Vylepšená verze"
   ]
  },
  {
   "cell_type": "code",
   "execution_count": null,
   "metadata": {},
   "outputs": [],
   "source": [
    "from random import randrange\n",
    "\n",
    "\n",
    "def vyhodnot(pole):\n",
    "    \"\"\"\n",
    "    Funkce vezme hrací pole a vrátí výsledek\n",
    "    na základě aktuálního stavu hry\n",
    "    \"\"\"\n",
    "    if \"xxx\" in pole: #Vyhrál hráč s křížky\n",
    "        return \"x\"\n",
    "    elif \"ooo\" in pole: #Vyhrál hráč s kolečky.\n",
    "        return \"o\"\n",
    "    elif \"-\" not in pole: #Nikdo nevyhrál\n",
    "        return \"!\"\n",
    "    else: #Hra ještě neskončila.\n",
    "        return \"-\"\n",
    "\n",
    "    \n",
    "def tah_pocitace(pole):\n",
    "    \"\"\"\n",
    "    Počítač vybere pozici, na kterou hrát,\n",
    "    a vrátí ideální pozici k tahu\n",
    "    \"\"\"\n",
    "    delka = len(pole)\n",
    "    while True:\n",
    "        pozice = randrange(1, delka - 1)\n",
    "        if \"-\" in pole[pozice]:\n",
    "            if \"o\" in pole[pozice + 1] or \"o\" in pole[pozice - 1] or \\\n",
    "               \"x\" in pole[pozice + 1] or \"x\" in pole[pozice - 1]: #počítač hraje strategicky\n",
    "                return pozice"
   ]
  },
  {
   "cell_type": "markdown",
   "metadata": {},
   "source": [
    "## Co je tady navíc?"
   ]
  },
  {
   "cell_type": "code",
   "execution_count": null,
   "metadata": {},
   "outputs": [],
   "source": [
    "pozice = int(randrange(len(pole)))"
   ]
  },
  {
   "cell_type": "markdown",
   "metadata": {},
   "source": [
    "## Obecné rady a doporučení"
   ]
  },
  {
   "cell_type": "markdown",
   "metadata": {},
   "source": [
    "- Importované moduly je třeba použít nebo jejich import smazat. V kódu je pak větší pořádek.\n",
    "- Mezi importy a zbytek kódu je pro přehlednost dobré vložit alespoň jeden prázdný řádek, ale správně by každé definici funkce měly předcházet dva prázdné řádky.\n",
    "- Pro dokumentační řetězec se používá \"\"\"text\"\"\" místo #\n",
    "- Je nezbytné ošetřovat vstupy od uživatele a naopak zcela zbytečné ošetřovat \"vstupy\" od počítače"
   ]
  }
 ],
 "metadata": {
  "kernelspec": {
   "display_name": "Python 3",
   "language": "python",
   "name": "python3"
  },
  "language_info": {
   "codemirror_mode": {
    "name": "ipython",
    "version": 3
   },
   "file_extension": ".py",
   "mimetype": "text/x-python",
   "name": "python",
   "nbconvert_exporter": "python",
   "pygments_lexer": "ipython3",
   "version": "3.6.6"
  }
 },
 "nbformat": 4,
 "nbformat_minor": 2
}
